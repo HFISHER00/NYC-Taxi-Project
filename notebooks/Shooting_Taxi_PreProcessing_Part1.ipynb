{
 "cells": [
  {
   "cell_type": "code",
   "execution_count": 1,
   "metadata": {},
   "outputs": [],
   "source": [
    "from pyspark.sql import SparkSession, functions as F\n",
    "from pyspark.sql.functions import date_add, col, count, dayofweek, expr, hour, month\n",
    "from pyspark.sql.functions import month as spark_month, hour as spark_hour"
   ]
  },
  {
   "cell_type": "markdown",
   "metadata": {},
   "source": [
    "Create Spark Session"
   ]
  },
  {
   "cell_type": "code",
   "execution_count": 2,
   "metadata": {},
   "outputs": [
    {
     "name": "stderr",
     "output_type": "stream",
     "text": [
      "your 131072x1 screen size is bogus. expect trouble\n",
      "23/08/22 12:46:54 WARN Utils: Your hostname, LAPTOP-RELH58H1 resolves to a loopback address: 127.0.1.1; using 172.19.22.4 instead (on interface eth0)\n",
      "23/08/22 12:46:54 WARN Utils: Set SPARK_LOCAL_IP if you need to bind to another address\n",
      "Setting default log level to \"WARN\".\n",
      "To adjust logging level use sc.setLogLevel(newLevel). For SparkR, use setLogLevel(newLevel).\n",
      "23/08/22 12:46:56 WARN NativeCodeLoader: Unable to load native-hadoop library for your platform... using builtin-java classes where applicable\n",
      "23/08/22 12:46:57 WARN Utils: Service 'SparkUI' could not bind on port 4040. Attempting port 4041.\n"
     ]
    }
   ],
   "source": [
    "# Create a spark session (which will run spark jobs)\n",
    "spark = (\n",
    "    SparkSession.builder.appName(\"MAST30034 Project 1\")\n",
    "    .config(\"spark.sql.repl.eagerEval.enabled\", True)\n",
    "    .config(\"spark.sql.parquet.cacheMetadata\", \"true\")\n",
    "    .config(\"spark.sql.session.timeZone\", \"Etc/UTC\")\n",
    "    .config('spark.driver.memory', '4g')\n",
    "    .config('spark.executor.memory', '2g')\n",
    "    .config(\"spark.sql.autoBroadcastJoinThreshold\", \"-1\") \n",
    "    .config('spark.executor.memoryOverhead', '3000')\n",
    "    .getOrCreate()\n",
    ")"
   ]
  },
  {
   "cell_type": "markdown",
   "metadata": {},
   "source": [
    "Load Preprocessed Shooting Data"
   ]
  },
  {
   "cell_type": "code",
   "execution_count": 3,
   "metadata": {},
   "outputs": [
    {
     "name": "stderr",
     "output_type": "stream",
     "text": [
      "                                                                                \r"
     ]
    }
   ],
   "source": [
    "# Load the shooting dataset\n",
    "shooting_df = spark.read.parquet(\"../data/raw/shooting_with_location.parquet\")"
   ]
  },
  {
   "cell_type": "markdown",
   "metadata": {},
   "source": [
    "Load Preprocessed Taxi Data - 3 months segments"
   ]
  },
  {
   "cell_type": "code",
   "execution_count": 3,
   "metadata": {},
   "outputs": [
    {
     "ename": "AnalysisException",
     "evalue": "[PATH_NOT_FOUND] Path does not exist: file:/mnt/c/Users/61435/Desktop/Applied Data/Cloned Project 1/mast30034-project-1-HFISHER00/data/raw/yellow_taxi_reduced/2016_01_to_03.parquet/*.",
     "output_type": "error",
     "traceback": [
      "\u001b[0;31m---------------------------------------------------------------------------\u001b[0m",
      "\u001b[0;31mAnalysisException\u001b[0m                         Traceback (most recent call last)",
      "Cell \u001b[0;32mIn[3], line 12\u001b[0m\n\u001b[1;32m     10\u001b[0m \u001b[39mfor\u001b[39;00m month \u001b[39min\u001b[39;00m months:\n\u001b[1;32m     11\u001b[0m     file_path \u001b[39m=\u001b[39m \u001b[39mf\u001b[39m\u001b[39m\"\u001b[39m\u001b[39m../data/raw/yellow_taxi_reduced/\u001b[39m\u001b[39m{\u001b[39;00myear\u001b[39m}\u001b[39;00m\u001b[39m_\u001b[39m\u001b[39m{\u001b[39;00mmonth\u001b[39m}\u001b[39;00m\u001b[39m.parquet/*\u001b[39m\u001b[39m\"\u001b[39m\n\u001b[0;32m---> 12\u001b[0m     df \u001b[39m=\u001b[39m spark\u001b[39m.\u001b[39;49mread\u001b[39m.\u001b[39;49mparquet(file_path)\n\u001b[1;32m     13\u001b[0m     taxi_periods\u001b[39m.\u001b[39mappend(df)\n",
      "File \u001b[0;32m~/.local/lib/python3.8/site-packages/pyspark/sql/readwriter.py:531\u001b[0m, in \u001b[0;36mDataFrameReader.parquet\u001b[0;34m(self, *paths, **options)\u001b[0m\n\u001b[1;32m    520\u001b[0m int96RebaseMode \u001b[39m=\u001b[39m options\u001b[39m.\u001b[39mget(\u001b[39m\"\u001b[39m\u001b[39mint96RebaseMode\u001b[39m\u001b[39m\"\u001b[39m, \u001b[39mNone\u001b[39;00m)\n\u001b[1;32m    521\u001b[0m \u001b[39mself\u001b[39m\u001b[39m.\u001b[39m_set_opts(\n\u001b[1;32m    522\u001b[0m     mergeSchema\u001b[39m=\u001b[39mmergeSchema,\n\u001b[1;32m    523\u001b[0m     pathGlobFilter\u001b[39m=\u001b[39mpathGlobFilter,\n\u001b[0;32m   (...)\u001b[0m\n\u001b[1;32m    528\u001b[0m     int96RebaseMode\u001b[39m=\u001b[39mint96RebaseMode,\n\u001b[1;32m    529\u001b[0m )\n\u001b[0;32m--> 531\u001b[0m \u001b[39mreturn\u001b[39;00m \u001b[39mself\u001b[39m\u001b[39m.\u001b[39m_df(\u001b[39mself\u001b[39;49m\u001b[39m.\u001b[39;49m_jreader\u001b[39m.\u001b[39;49mparquet(_to_seq(\u001b[39mself\u001b[39;49m\u001b[39m.\u001b[39;49m_spark\u001b[39m.\u001b[39;49m_sc, paths)))\n",
      "File \u001b[0;32m~/.local/lib/python3.8/site-packages/py4j/java_gateway.py:1322\u001b[0m, in \u001b[0;36mJavaMember.__call__\u001b[0;34m(self, *args)\u001b[0m\n\u001b[1;32m   1316\u001b[0m command \u001b[39m=\u001b[39m proto\u001b[39m.\u001b[39mCALL_COMMAND_NAME \u001b[39m+\u001b[39m\\\n\u001b[1;32m   1317\u001b[0m     \u001b[39mself\u001b[39m\u001b[39m.\u001b[39mcommand_header \u001b[39m+\u001b[39m\\\n\u001b[1;32m   1318\u001b[0m     args_command \u001b[39m+\u001b[39m\\\n\u001b[1;32m   1319\u001b[0m     proto\u001b[39m.\u001b[39mEND_COMMAND_PART\n\u001b[1;32m   1321\u001b[0m answer \u001b[39m=\u001b[39m \u001b[39mself\u001b[39m\u001b[39m.\u001b[39mgateway_client\u001b[39m.\u001b[39msend_command(command)\n\u001b[0;32m-> 1322\u001b[0m return_value \u001b[39m=\u001b[39m get_return_value(\n\u001b[1;32m   1323\u001b[0m     answer, \u001b[39mself\u001b[39;49m\u001b[39m.\u001b[39;49mgateway_client, \u001b[39mself\u001b[39;49m\u001b[39m.\u001b[39;49mtarget_id, \u001b[39mself\u001b[39;49m\u001b[39m.\u001b[39;49mname)\n\u001b[1;32m   1325\u001b[0m \u001b[39mfor\u001b[39;00m temp_arg \u001b[39min\u001b[39;00m temp_args:\n\u001b[1;32m   1326\u001b[0m     \u001b[39mif\u001b[39;00m \u001b[39mhasattr\u001b[39m(temp_arg, \u001b[39m\"\u001b[39m\u001b[39m_detach\u001b[39m\u001b[39m\"\u001b[39m):\n",
      "File \u001b[0;32m~/.local/lib/python3.8/site-packages/pyspark/errors/exceptions/captured.py:175\u001b[0m, in \u001b[0;36mcapture_sql_exception.<locals>.deco\u001b[0;34m(*a, **kw)\u001b[0m\n\u001b[1;32m    171\u001b[0m converted \u001b[39m=\u001b[39m convert_exception(e\u001b[39m.\u001b[39mjava_exception)\n\u001b[1;32m    172\u001b[0m \u001b[39mif\u001b[39;00m \u001b[39mnot\u001b[39;00m \u001b[39misinstance\u001b[39m(converted, UnknownException):\n\u001b[1;32m    173\u001b[0m     \u001b[39m# Hide where the exception came from that shows a non-Pythonic\u001b[39;00m\n\u001b[1;32m    174\u001b[0m     \u001b[39m# JVM exception message.\u001b[39;00m\n\u001b[0;32m--> 175\u001b[0m     \u001b[39mraise\u001b[39;00m converted \u001b[39mfrom\u001b[39;00m \u001b[39mNone\u001b[39;00m\n\u001b[1;32m    176\u001b[0m \u001b[39melse\u001b[39;00m:\n\u001b[1;32m    177\u001b[0m     \u001b[39mraise\u001b[39;00m\n",
      "\u001b[0;31mAnalysisException\u001b[0m: [PATH_NOT_FOUND] Path does not exist: file:/mnt/c/Users/61435/Desktop/Applied Data/Cloned Project 1/mast30034-project-1-HFISHER00/data/raw/yellow_taxi_reduced/2016_01_to_03.parquet/*."
     ]
    }
   ],
   "source": [
    "# Define the years and months for which you have Parquet files\n",
    "years = range(2016, 2020)\n",
    "months = [\"01_to_03\", \"04_to_06\", \"07_to_09\", \"10_to_12\"]\n",
    "\n",
    "# List to store all taxi data DataFrames\n",
    "taxi_periods = []\n",
    "\n",
    "# Loop through years and months to read Parquet files and create DataFrames\n",
    "for year in years:\n",
    "    for month in months:\n",
    "        file_path = f\"../data/raw/yellow_taxi_reduced/{year}_{month}.parquet/*\"\n",
    "        df = spark.read.parquet(file_path)\n",
    "        taxi_periods.append(df)"
   ]
  },
  {
   "cell_type": "markdown",
   "metadata": {},
   "source": [
    "Create weekend column"
   ]
  },
  {
   "cell_type": "code",
   "execution_count": 5,
   "metadata": {},
   "outputs": [],
   "source": [
    "# List to store modified DataFrames with the \"weekend\" column\n",
    "modified_taxi_periods = []\n",
    "\n",
    "# Loop through the list of DataFrames and add the \"weekend\" column\n",
    "for taxi_df in taxi_periods:\n",
    "    modified_taxi_df = taxi_df.withColumn(\"weekend\", expr(\"(dayofweek(tpep_pickup_datetime) = 1) OR (dayofweek(tpep_pickup_datetime) = 7)\").cast(\"int\"))\n",
    "    modified_taxi_periods.append(modified_taxi_df)"
   ]
  },
  {
   "cell_type": "markdown",
   "metadata": {},
   "source": [
    "Create pick up hour and month column"
   ]
  },
  {
   "cell_type": "code",
   "execution_count": 6,
   "metadata": {},
   "outputs": [],
   "source": [
    "# List to store modified DataFrames with the \"month\" and \"hour\" columns\n",
    "timed_taxi_periods = []\n",
    "\n",
    "# Loop through the list of DataFrames and add the \"month\" and \"hour\" columns\n",
    "for taxi_df in modified_taxi_periods:\n",
    "    full_modified_taxi_df = taxi_df.withColumn(\"Month\", month(col(\"tpep_pickup_datetime\")))\n",
    "    full_modified_taxi_df = full_modified_taxi_df.withColumn(\"Hour\", hour(col(\"tpep_pickup_datetime\")))\n",
    "    timed_taxi_periods.append(full_modified_taxi_df)\n"
   ]
  },
  {
   "cell_type": "markdown",
   "metadata": {},
   "source": [
    "Joining Datasets"
   ]
  },
  {
   "cell_type": "code",
   "execution_count": 7,
   "metadata": {},
   "outputs": [],
   "source": [
    "# List to store merged DataFrames\n",
    "merged_data = []\n",
    "\n",
    "# Loop thorugh the data frame to merge together the Dataframes\n",
    "for taxi_df in timed_taxi_periods:\n",
    "    merged_df = taxi_df.join(\n",
    "        shooting_df,\n",
    "        (taxi_df[\"PULocationID\"] == shooting_df[\"LocationID\"]) &\n",
    "        (taxi_df[\"tpep_pickup_datetime\"] > date_add(shooting_df[\"Date\"], 1)) &\n",
    "        (taxi_df[\"tpep_pickup_datetime\"] <= date_add(shooting_df[\"Date\"], 8)),\n",
    "        \"inner\"\n",
    "    )\n",
    "    # Calculate the days_after_shooting column\n",
    "    merged_df = merged_df.withColumn(\n",
    "        \"days_after_shooting\",\n",
    "        F.datediff(merged_df[\"tpep_pickup_datetime\"], merged_df[\"Date\"])\n",
    "    )\n",
    "    \n",
    "    merged_data.append(merged_df)"
   ]
  },
  {
   "cell_type": "markdown",
   "metadata": {},
   "source": [
    "Aggregating dataframe to so it focuses on number of trips per hour"
   ]
  },
  {
   "cell_type": "markdown",
   "metadata": {},
   "source": [
    "Removing rows that aren't necessary"
   ]
  },
  {
   "cell_type": "code",
   "execution_count": 9,
   "metadata": {},
   "outputs": [],
   "source": [
    "# List of columns to keep\n",
    "columns_to_keep = [\"days_after_shooting\", \"Hour\", \"Month\", \"tpep_pickup_datetime\", \"ID\",\n",
    "                   \"Borough\", \"murder\", \"Perp_Sex\", \"Perp_Race\", \"Vict_Sex\", \"Vict_Race\",\n",
    "                   \"LocationID\", \"Weekend\",\"Date\"]\n",
    "\n",
    "# Create a new list of DataFrames with selected columns\n",
    "select_dataframes = []\n",
    "for dataframe in merged_data:\n",
    "    select_dataframe = dataframe.select(*columns_to_keep)\n",
    "    select_dataframes.append(select_dataframe)"
   ]
  },
  {
   "cell_type": "markdown",
   "metadata": {},
   "source": [
    "Aggregating data"
   ]
  },
  {
   "cell_type": "code",
   "execution_count": 10,
   "metadata": {},
   "outputs": [],
   "source": [
    "# Loop through each DataFrame in the list and perform aggregations\n",
    "aggregated_dataframes = []\n",
    "for dataframe in select_dataframes:\n",
    "    # Select the specified columns to keep\n",
    "    selected_columns = [\"days_after_shooting\", \"Hour\", \"Month\", \"Borough\", \"murder\", \n",
    "                        \"Perp_Sex\", \"Perp_Race\", \"Vict_Sex\", \"Vict_Race\", \"LocationID\", \n",
    "                        \"ID\", \"Weekend\", \"Date\"]\n",
    "    \n",
    "    # Group by pickup_hour, days_after_shooting, and ID\n",
    "    grouped_data = dataframe.groupBy(*selected_columns).agg(\n",
    "        count(\"ID\").alias(\"number_of_trips\"),\n",
    "    )\n",
    "    \n",
    "    # Append to aggregated_dataframes list\n",
    "    aggregated_dataframes.append(grouped_data)"
   ]
  },
  {
   "cell_type": "markdown",
   "metadata": {},
   "source": [
    "Saving Shooting-Taxi dataframes"
   ]
  },
  {
   "cell_type": "code",
   "execution_count": 11,
   "metadata": {},
   "outputs": [
    {
     "name": "stderr",
     "output_type": "stream",
     "text": [
      "23/08/18 22:17:12 WARN RowBasedKeyValueBatch: Calling spill() on RowBasedKeyValueBatch. Will not spill but return 0.\n",
      "23/08/18 22:17:12 WARN RowBasedKeyValueBatch: Calling spill() on RowBasedKeyValueBatch. Will not spill but return 0.\n",
      "23/08/18 22:17:12 WARN RowBasedKeyValueBatch: Calling spill() on RowBasedKeyValueBatch. Will not spill but return 0.\n",
      "23/08/18 22:17:16 WARN RowBasedKeyValueBatch: Calling spill() on RowBasedKeyValueBatch. Will not spill but return 0.\n",
      "23/08/18 22:17:16 WARN RowBasedKeyValueBatch: Calling spill() on RowBasedKeyValueBatch. Will not spill but return 0.\n",
      "23/08/18 22:17:17 WARN RowBasedKeyValueBatch: Calling spill() on RowBasedKeyValueBatch. Will not spill but return 0.\n",
      "23/08/18 22:17:17 WARN RowBasedKeyValueBatch: Calling spill() on RowBasedKeyValueBatch. Will not spill but return 0.\n",
      "23/08/18 22:17:24 WARN RowBasedKeyValueBatch: Calling spill() on RowBasedKeyValueBatch. Will not spill but return 0.\n",
      "23/08/18 22:17:24 WARN RowBasedKeyValueBatch: Calling spill() on RowBasedKeyValueBatch. Will not spill but return 0.\n",
      "23/08/18 22:17:24 WARN RowBasedKeyValueBatch: Calling spill() on RowBasedKeyValueBatch. Will not spill but return 0.\n",
      "23/08/18 22:17:29 WARN RowBasedKeyValueBatch: Calling spill() on RowBasedKeyValueBatch. Will not spill but return 0.\n",
      "23/08/18 22:18:20 WARN RowBasedKeyValueBatch: Calling spill() on RowBasedKeyValueBatch. Will not spill but return 0.\n",
      "23/08/18 22:18:20 WARN RowBasedKeyValueBatch: Calling spill() on RowBasedKeyValueBatch. Will not spill but return 0.\n",
      "23/08/18 22:18:20 WARN RowBasedKeyValueBatch: Calling spill() on RowBasedKeyValueBatch. Will not spill but return 0.\n",
      "23/08/18 22:18:20 WARN RowBasedKeyValueBatch: Calling spill() on RowBasedKeyValueBatch. Will not spill but return 0.\n",
      "23/08/18 22:18:20 WARN RowBasedKeyValueBatch: Calling spill() on RowBasedKeyValueBatch. Will not spill but return 0.\n",
      "ERROR:root:KeyboardInterrupt while sending command.\n",
      "Traceback (most recent call last):\n",
      "  File \"/home/hafisher/.local/lib/python3.8/site-packages/py4j/java_gateway.py\", line 1038, in send_command\n",
      "    response = connection.send_command(command)\n",
      "  File \"/home/hafisher/.local/lib/python3.8/site-packages/py4j/clientserver.py\", line 511, in send_command\n",
      "    answer = smart_decode(self.stream.readline()[:-1])\n",
      "  File \"/usr/lib/python3.8/socket.py\", line 669, in readinto\n",
      "    return self._sock.recv_into(b)\n",
      "KeyboardInterrupt\n",
      "23/08/18 22:18:35 WARN RowBasedKeyValueBatch: Calling spill() on RowBasedKeyValueBatch. Will not spill but return 0.\n"
     ]
    }
   ],
   "source": [
    "# Define a list of output paths for each Parquet file in the processed directory\n",
    "output_paths = [\n",
    "    \"../data/curated/shooting_taxi_hour_data_reduced/2016_01_to_03.parquet\",\n",
    "    \"../data/curated/shooting_taxi_hour_data_reduced/2016_04_to_06.parquet\",\n",
    "    \"../data/curated/shooting_taxi_hour_data_reduced/2016_07_to_09.parquet\",\n",
    "    \"../data/curated/shooting_taxi_hour_data_reduced/2016_10_to_12.parquet\",\n",
    "    \"../data/curated/shooting_taxi_hour_data_reduced/2017_01_to_03.parquet\",\n",
    "    \"../data/curated/shooting_taxi_hour_data_reduced/2017_04_to_06.parquet\",\n",
    "    \"../data/curated/shooting_taxi_hour_data_reduced/2017_07_to_09.parquet\",\n",
    "    \"../data/curated/shooting_taxi_hour_data_reduced/2017_10_to_12.parquet\",\n",
    "    \"../data/curated/shooting_taxi_hour_data_reduced/2018_01_to_03.parquet\",\n",
    "    \"../data/curated/shooting_taxi_hour_data_reduced/2018_04_to_06.parquet\",\n",
    "    \"../data/curated/shooting_taxi_hour_data_reduced/2018_07_to_09.parquet\",\n",
    "    \"../data/curated/shooting_taxi_hour_data_reduced/2018_10_to_12.parquet\",\n",
    "    \"../data/curated/shooting_taxi_hour_data_reduced/2019_01_to_03.parquet\",\n",
    "    \"../data/curated/shooting_taxi_hour_data_reduced/2019_04_to_06.parquet\",\n",
    "    \"../data/curated/shooting_taxi_hour_data_reduced/2019_07_to_09.parquet\",\n",
    "    \"../data/curated/shooting_taxi_hour_data_reduced/2019_10_to_12.parquet\",\n",
    "]\n",
    "\n",
    "# Iterate through each DataFrame and its corresponding output path, then write the Parquet file\n",
    "for df, output_path in zip(aggregated_dataframes, output_paths):\n",
    "    df.write.mode(\"overwrite\").parquet(output_path)\n",
    "    \n",
    "# Stop the SparkSession\n",
    "spark.stop()"
   ]
  }
 ],
 "metadata": {
  "kernelspec": {
   "display_name": "Python 3",
   "language": "python",
   "name": "python3"
  },
  "language_info": {
   "codemirror_mode": {
    "name": "ipython",
    "version": 3
   },
   "file_extension": ".py",
   "mimetype": "text/x-python",
   "name": "python",
   "nbconvert_exporter": "python",
   "pygments_lexer": "ipython3",
   "version": "3.8.10"
  },
  "orig_nbformat": 4
 },
 "nbformat": 4,
 "nbformat_minor": 2
}
