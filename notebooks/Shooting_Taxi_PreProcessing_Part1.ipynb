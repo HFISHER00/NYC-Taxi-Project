{
 "cells": [
  {
   "cell_type": "code",
   "execution_count": 1,
   "metadata": {},
   "outputs": [],
   "source": [
    "from pyspark.sql import SparkSession, functions as F\n",
    "from pyspark.sql.functions import date_add, col, count, dayofweek, expr, hour, month"
   ]
  },
  {
   "cell_type": "markdown",
   "metadata": {},
   "source": [
    "Create Spark Session"
   ]
  },
  {
   "cell_type": "code",
   "execution_count": 2,
   "metadata": {},
   "outputs": [
    {
     "name": "stderr",
     "output_type": "stream",
     "text": [
      "your 131072x1 screen size is bogus. expect trouble\n",
      "23/08/19 17:48:41 WARN Utils: Your hostname, LAPTOP-RELH58H1 resolves to a loopback address: 127.0.1.1; using 172.19.22.4 instead (on interface eth0)\n",
      "23/08/19 17:48:41 WARN Utils: Set SPARK_LOCAL_IP if you need to bind to another address\n",
      "Setting default log level to \"WARN\".\n",
      "To adjust logging level use sc.setLogLevel(newLevel). For SparkR, use setLogLevel(newLevel).\n",
      "23/08/19 17:48:44 WARN NativeCodeLoader: Unable to load native-hadoop library for your platform... using builtin-java classes where applicable\n",
      "23/08/19 17:48:46 WARN Utils: Service 'SparkUI' could not bind on port 4040. Attempting port 4041.\n"
     ]
    }
   ],
   "source": [
    "# Create a spark session (which will run spark jobs)\n",
    "spark = (\n",
    "    SparkSession.builder.appName(\"MAST30034 Project 1\")\n",
    "    .config(\"spark.sql.repl.eagerEval.enabled\", True)\n",
    "    .config(\"spark.sql.parquet.cacheMetadata\", \"true\")\n",
    "    .config(\"spark.sql.session.timeZone\", \"Etc/UTC\")\n",
    "    .config('spark.driver.memory', '4g')\n",
    "    .config('spark.executor.memory', '2g')\n",
    "    .config(\"spark.sql.autoBroadcastJoinThreshold\", \"-1\") \n",
    "    .config('spark.executor.memoryOverhead', '3000')\n",
    "    .getOrCreate()\n",
    ")"
   ]
  },
  {
   "cell_type": "markdown",
   "metadata": {},
   "source": [
    "Load Preprocessed Shooting Data"
   ]
  },
  {
   "cell_type": "code",
   "execution_count": 3,
   "metadata": {},
   "outputs": [
    {
     "name": "stderr",
     "output_type": "stream",
     "text": [
      "                                                                                \r"
     ]
    }
   ],
   "source": [
    "# Load the shooting dataset\n",
    "shooting_df = spark.read.parquet(\"../data/raw/shooting_with_location.parquet\")"
   ]
  },
  {
   "cell_type": "markdown",
   "metadata": {},
   "source": [
    "Load Preprocessed Taxi Data - 3 months segments"
   ]
  },
  {
   "cell_type": "code",
   "execution_count": 4,
   "metadata": {},
   "outputs": [],
   "source": [
    "# Read all Parquet files in the specified folder\n",
    "sdf_yellow_2016_01_to_03 = spark.read.parquet('../data/raw/yellow_taxi_reduced/2016_01_to_03.parquet/*')\n",
    "sdf_yellow_2016_04_to_06 = spark.read.parquet('../data/raw/yellow_taxi_reduced/2016_04_to_06.parquet/*')\n",
    "sdf_yellow_2016_07_to_09 = spark.read.parquet('../data/raw/yellow_taxi_reduced/2016_07_to_09.parquet/*')\n",
    "sdf_yellow_2016_10_to_12 = spark.read.parquet('../data/raw/yellow_taxi_reduced/2016_10_to_12.parquet/*')\n",
    "\n",
    "sdf_yellow_2017_01_to_03 = spark.read.parquet('../data/raw/yellow_taxi_reduced/2017_01_to_03.parquet/*')\n",
    "sdf_yellow_2017_04_to_06 = spark.read.parquet('../data/raw/yellow_taxi_reduced/2017_04_to_06.parquet/*')\n",
    "sdf_yellow_2017_07_to_09 = spark.read.parquet('../data/raw/yellow_taxi_reduced/2017_07_to_09.parquet/*')\n",
    "sdf_yellow_2017_10_to_12 = spark.read.parquet('../data/raw/yellow_taxi_reduced/2017_10_to_12.parquet/*')\n",
    "\n",
    "sdf_yellow_2018_01_to_03 = spark.read.parquet('../data/raw/yellow_taxi_reduced/2018_01_to_03.parquet/*')\n",
    "sdf_yellow_2018_04_to_06 = spark.read.parquet('../data/raw/yellow_taxi_reduced/2018_04_to_06.parquet/*')\n",
    "sdf_yellow_2018_07_to_09 = spark.read.parquet('../data/raw/yellow_taxi_reduced/2018_07_to_09.parquet/*')\n",
    "sdf_yellow_2018_10_to_12 = spark.read.parquet('../data/raw/yellow_taxi_reduced/2018_10_to_12.parquet/*')\n",
    "\n",
    "sdf_yellow_2019_01_to_03 = spark.read.parquet('../data/raw/yellow_taxi_reduced/2019_01_to_03.parquet/*')\n",
    "sdf_yellow_2019_04_to_06 = spark.read.parquet('../data/raw/yellow_taxi_reduced/2019_04_to_06.parquet/*')\n",
    "sdf_yellow_2019_07_to_09 = spark.read.parquet('../data/raw/yellow_taxi_reduced/2019_07_to_09.parquet/*')\n",
    "sdf_yellow_2019_10_to_12 = spark.read.parquet('../data/raw/yellow_taxi_reduced/2019_10_to_12.parquet/*')\n",
    "\n",
    "# List creation of all taxi data\n",
    "taxi_periods = [\n",
    "    sdf_yellow_2016_01_to_03,\n",
    "    sdf_yellow_2016_04_to_06,\n",
    "    sdf_yellow_2016_07_to_09,\n",
    "    sdf_yellow_2016_10_to_12,\n",
    "    sdf_yellow_2017_01_to_03,\n",
    "    sdf_yellow_2017_04_to_06,\n",
    "    sdf_yellow_2017_07_to_09,\n",
    "    sdf_yellow_2017_10_to_12,\n",
    "    sdf_yellow_2018_01_to_03,\n",
    "    sdf_yellow_2018_04_to_06,\n",
    "    sdf_yellow_2018_07_to_09,\n",
    "    sdf_yellow_2018_10_to_12,\n",
    "    sdf_yellow_2019_01_to_03,\n",
    "    sdf_yellow_2019_04_to_06,\n",
    "    sdf_yellow_2019_07_to_09,\n",
    "    sdf_yellow_2019_10_to_12,\n",
    "]"
   ]
  },
  {
   "cell_type": "markdown",
   "metadata": {},
   "source": [
    "Create weekend column"
   ]
  },
  {
   "cell_type": "code",
   "execution_count": 5,
   "metadata": {},
   "outputs": [],
   "source": [
    "# List to store modified DataFrames with the \"weekend\" column\n",
    "modified_taxi_periods = []\n",
    "\n",
    "# Loop through the list of DataFrames and add the \"weekend\" column\n",
    "for taxi_df in taxi_periods:\n",
    "    modified_taxi_df = taxi_df.withColumn(\"weekend\", expr(\"(dayofweek(tpep_pickup_datetime) = 1) OR (dayofweek(tpep_pickup_datetime) = 7)\").cast(\"int\"))\n",
    "    modified_taxi_periods.append(modified_taxi_df)"
   ]
  },
  {
   "cell_type": "markdown",
   "metadata": {},
   "source": [
    "Create pick up hour and month column"
   ]
  },
  {
   "cell_type": "code",
   "execution_count": 6,
   "metadata": {},
   "outputs": [],
   "source": [
    "# List to store modified DataFrames with the \"month\" and \"hour\" columns\n",
    "timed_taxi_periods = []\n",
    "\n",
    "# Loop through the list of DataFrames and add the \"month\" and \"hour\" columns\n",
    "for taxi_df in modified_taxi_periods:\n",
    "    full_modified_taxi_df = taxi_df.withColumn(\"Month\", month(col(\"tpep_pickup_datetime\")))\n",
    "    full_modified_taxi_df = full_modified_taxi_df.withColumn(\"Hour\", hour(col(\"tpep_pickup_datetime\")))\n",
    "    timed_taxi_periods.append(full_modified_taxi_df)\n"
   ]
  },
  {
   "cell_type": "markdown",
   "metadata": {},
   "source": [
    "Joining Datasets"
   ]
  },
  {
   "cell_type": "code",
   "execution_count": 7,
   "metadata": {},
   "outputs": [],
   "source": [
    "# List to store merged DataFrames\n",
    "merged_data = []\n",
    "\n",
    "# Loop thorugh the data frame to merge together the Dataframes\n",
    "for taxi_df in timed_taxi_periods:\n",
    "    merged_df = taxi_df.join(\n",
    "        shooting_df,\n",
    "        (taxi_df[\"PULocationID\"] == shooting_df[\"LocationID\"]) &\n",
    "        (taxi_df[\"tpep_pickup_datetime\"] > date_add(shooting_df[\"Date\"], 1)) &\n",
    "        (taxi_df[\"tpep_pickup_datetime\"] <= date_add(shooting_df[\"Date\"], 8)),\n",
    "        \"inner\"\n",
    "    )\n",
    "    # Calculate the days_after_shooting column\n",
    "    merged_df = merged_df.withColumn(\n",
    "        \"days_after_shooting\",\n",
    "        F.datediff(merged_df[\"tpep_pickup_datetime\"], merged_df[\"Date\"])\n",
    "    )\n",
    "    \n",
    "    merged_data.append(merged_df)"
   ]
  },
  {
   "cell_type": "markdown",
   "metadata": {},
   "source": [
    "Aggregating dataframe to so it focuses on number of trips per hour"
   ]
  },
  {
   "cell_type": "markdown",
   "metadata": {},
   "source": [
    "Removing rows that aren't necessary"
   ]
  },
  {
   "cell_type": "code",
   "execution_count": 9,
   "metadata": {},
   "outputs": [],
   "source": [
    "# List of columns to keep\n",
    "columns_to_keep = [\"days_after_shooting\", \"Hour\", \"Month\", \"tpep_pickup_datetime\", \"ID\",\n",
    "                   \"Borough\", \"murder\", \"Perp_Sex\", \"Perp_Race\", \"Vict_Sex\", \"Vict_Race\",\n",
    "                   \"LocationID\", \"Weekend\",\"Date\"]\n",
    "\n",
    "# Create a new list of DataFrames with selected columns\n",
    "select_dataframes = []\n",
    "for dataframe in merged_data:\n",
    "    select_dataframe = dataframe.select(*columns_to_keep)\n",
    "    select_dataframes.append(select_dataframe)"
   ]
  },
  {
   "cell_type": "markdown",
   "metadata": {},
   "source": [
    "Aggregating data"
   ]
  },
  {
   "cell_type": "code",
   "execution_count": 10,
   "metadata": {},
   "outputs": [],
   "source": [
    "# Loop through each DataFrame in the list and perform aggregations\n",
    "aggregated_dataframes = []\n",
    "for dataframe in select_dataframes:\n",
    "    # Select the specified columns to keep\n",
    "    selected_columns = [\"days_after_shooting\", \"Hour\", \"Month\", \"Borough\", \"murder\", \n",
    "                        \"Perp_Sex\", \"Perp_Race\", \"Vict_Sex\", \"Vict_Race\", \"LocationID\", \n",
    "                        \"ID\", \"Weekend\", \"Date\"]\n",
    "    \n",
    "    # Group by pickup_hour, days_after_shooting, and ID\n",
    "    grouped_data = dataframe.groupBy(*selected_columns).agg(\n",
    "        count(\"ID\").alias(\"number_of_trips\"),\n",
    "    )\n",
    "    \n",
    "    # Append to aggregated_dataframes list\n",
    "    aggregated_dataframes.append(grouped_data)"
   ]
  },
  {
   "cell_type": "markdown",
   "metadata": {},
   "source": [
    "Saving Shooting-Taxi dataframes"
   ]
  },
  {
   "cell_type": "code",
   "execution_count": 11,
   "metadata": {},
   "outputs": [
    {
     "name": "stderr",
     "output_type": "stream",
     "text": [
      "23/08/18 22:17:12 WARN RowBasedKeyValueBatch: Calling spill() on RowBasedKeyValueBatch. Will not spill but return 0.\n",
      "23/08/18 22:17:12 WARN RowBasedKeyValueBatch: Calling spill() on RowBasedKeyValueBatch. Will not spill but return 0.\n",
      "23/08/18 22:17:12 WARN RowBasedKeyValueBatch: Calling spill() on RowBasedKeyValueBatch. Will not spill but return 0.\n",
      "23/08/18 22:17:16 WARN RowBasedKeyValueBatch: Calling spill() on RowBasedKeyValueBatch. Will not spill but return 0.\n",
      "23/08/18 22:17:16 WARN RowBasedKeyValueBatch: Calling spill() on RowBasedKeyValueBatch. Will not spill but return 0.\n",
      "23/08/18 22:17:17 WARN RowBasedKeyValueBatch: Calling spill() on RowBasedKeyValueBatch. Will not spill but return 0.\n",
      "23/08/18 22:17:17 WARN RowBasedKeyValueBatch: Calling spill() on RowBasedKeyValueBatch. Will not spill but return 0.\n",
      "23/08/18 22:17:24 WARN RowBasedKeyValueBatch: Calling spill() on RowBasedKeyValueBatch. Will not spill but return 0.\n",
      "23/08/18 22:17:24 WARN RowBasedKeyValueBatch: Calling spill() on RowBasedKeyValueBatch. Will not spill but return 0.\n",
      "23/08/18 22:17:24 WARN RowBasedKeyValueBatch: Calling spill() on RowBasedKeyValueBatch. Will not spill but return 0.\n",
      "23/08/18 22:17:29 WARN RowBasedKeyValueBatch: Calling spill() on RowBasedKeyValueBatch. Will not spill but return 0.\n",
      "23/08/18 22:18:20 WARN RowBasedKeyValueBatch: Calling spill() on RowBasedKeyValueBatch. Will not spill but return 0.\n",
      "23/08/18 22:18:20 WARN RowBasedKeyValueBatch: Calling spill() on RowBasedKeyValueBatch. Will not spill but return 0.\n",
      "23/08/18 22:18:20 WARN RowBasedKeyValueBatch: Calling spill() on RowBasedKeyValueBatch. Will not spill but return 0.\n",
      "23/08/18 22:18:20 WARN RowBasedKeyValueBatch: Calling spill() on RowBasedKeyValueBatch. Will not spill but return 0.\n",
      "23/08/18 22:18:20 WARN RowBasedKeyValueBatch: Calling spill() on RowBasedKeyValueBatch. Will not spill but return 0.\n",
      "ERROR:root:KeyboardInterrupt while sending command.\n",
      "Traceback (most recent call last):\n",
      "  File \"/home/hafisher/.local/lib/python3.8/site-packages/py4j/java_gateway.py\", line 1038, in send_command\n",
      "    response = connection.send_command(command)\n",
      "  File \"/home/hafisher/.local/lib/python3.8/site-packages/py4j/clientserver.py\", line 511, in send_command\n",
      "    answer = smart_decode(self.stream.readline()[:-1])\n",
      "  File \"/usr/lib/python3.8/socket.py\", line 669, in readinto\n",
      "    return self._sock.recv_into(b)\n",
      "KeyboardInterrupt\n",
      "23/08/18 22:18:35 WARN RowBasedKeyValueBatch: Calling spill() on RowBasedKeyValueBatch. Will not spill but return 0.\n"
     ]
    }
   ],
   "source": [
    "# Define a list of output paths for each Parquet file in the processed directory\n",
    "output_paths = [\n",
    "    \"../data/curated/shooting_taxi_hour_data_reduced/2016_01_to_03.parquet\",\n",
    "    \"../data/curated/shooting_taxi_hour_data_reduced/2016_04_to_06.parquet\",\n",
    "    \"../data/curated/shooting_taxi_hour_data_reduced/2016_07_to_09.parquet\",\n",
    "    \"../data/curated/shooting_taxi_hour_data_reduced/2016_10_to_12.parquet\",\n",
    "    \"../data/curated/shooting_taxi_hour_data_reduced/2017_01_to_03.parquet\",\n",
    "    \"../data/curated/shooting_taxi_hour_data_reduced/2017_04_to_06.parquet\",\n",
    "    \"../data/curated/shooting_taxi_hour_data_reduced/2017_07_to_09.parquet\",\n",
    "    \"../data/curated/shooting_taxi_hour_data_reduced/2017_10_to_12.parquet\",\n",
    "    \"../data/curated/shooting_taxi_hour_data_reduced/2018_01_to_03.parquet\",\n",
    "    \"../data/curated/shooting_taxi_hour_data_reduced/2018_04_to_06.parquet\",\n",
    "    \"../data/curated/shooting_taxi_hour_data_reduced/2018_07_to_09.parquet\",\n",
    "    \"../data/curated/shooting_taxi_hour_data_reduced/2018_10_to_12.parquet\",\n",
    "    \"../data/curated/shooting_taxi_hour_data_reduced/2019_01_to_03.parquet\",\n",
    "    \"../data/curated/shooting_taxi_hour_data_reduced/2019_04_to_06.parquet\",\n",
    "    \"../data/curated/shooting_taxi_hour_data_reduced/2019_07_to_09.parquet\",\n",
    "    \"../data/curated/shooting_taxi_hour_data_reduced/2019_10_to_12.parquet\",\n",
    "]\n",
    "\n",
    "# Iterate through each DataFrame and its corresponding output path, then write the Parquet file\n",
    "for df, output_path in zip(aggregated_dataframes, output_paths):\n",
    "    df.write.mode(\"overwrite\").parquet(output_path)"
   ]
  }
 ],
 "metadata": {
  "kernelspec": {
   "display_name": "Python 3",
   "language": "python",
   "name": "python3"
  },
  "language_info": {
   "codemirror_mode": {
    "name": "ipython",
    "version": 3
   },
   "file_extension": ".py",
   "mimetype": "text/x-python",
   "name": "python",
   "nbconvert_exporter": "python",
   "pygments_lexer": "ipython3",
   "version": "3.8.10"
  },
  "orig_nbformat": 4
 },
 "nbformat": 4,
 "nbformat_minor": 2
}
