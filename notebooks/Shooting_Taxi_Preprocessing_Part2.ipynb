{
 "cells": [
  {
   "cell_type": "code",
   "execution_count": 1,
   "metadata": {},
   "outputs": [],
   "source": [
    "from pyspark.sql import SparkSession, functions as F\n",
    "from pyspark.sql.functions import col, avg, dayofweek, expr, hour, month, to_date, count"
   ]
  },
  {
   "cell_type": "markdown",
   "metadata": {},
   "source": [
    "Create Spark Session"
   ]
  },
  {
   "cell_type": "code",
   "execution_count": 2,
   "metadata": {},
   "outputs": [
    {
     "name": "stderr",
     "output_type": "stream",
     "text": [
      "your 131072x1 screen size is bogus. expect trouble\n",
      "23/08/19 17:28:09 WARN Utils: Your hostname, LAPTOP-RELH58H1 resolves to a loopback address: 127.0.1.1; using 172.19.22.4 instead (on interface eth0)\n",
      "23/08/19 17:28:09 WARN Utils: Set SPARK_LOCAL_IP if you need to bind to another address\n",
      "Setting default log level to \"WARN\".\n",
      "To adjust logging level use sc.setLogLevel(newLevel). For SparkR, use setLogLevel(newLevel).\n",
      "23/08/19 17:28:11 WARN NativeCodeLoader: Unable to load native-hadoop library for your platform... using builtin-java classes where applicable\n"
     ]
    }
   ],
   "source": [
    "# Create a spark session (which will run spark jobs)\n",
    "spark = (\n",
    "    SparkSession.builder.appName(\"MAST30034 Project 1\")\n",
    "    .config(\"spark.sql.repl.eagerEval.enabled\", True)\n",
    "    .config(\"spark.sql.parquet.cacheMetadata\", \"true\")\n",
    "    .config(\"spark.sql.session.timeZone\", \"Etc/UTC\")\n",
    "    .config('spark.driver.memory', '4g')\n",
    "    .config('spark.executor.memory', '2g')\n",
    "    .config(\"spark.sql.autoBroadcastJoinThreshold\", \"-1\") \n",
    "    .config('spark.executor.memoryOverhead', '3000')\n",
    "    .getOrCreate()\n",
    ")"
   ]
  },
  {
   "cell_type": "markdown",
   "metadata": {},
   "source": [
    "Load Preprocessed Taxi Data - 3 months segments"
   ]
  },
  {
   "cell_type": "code",
   "execution_count": 3,
   "metadata": {},
   "outputs": [
    {
     "name": "stderr",
     "output_type": "stream",
     "text": [
      "                                                                                \r"
     ]
    }
   ],
   "source": [
    "# Read all Parquet files in the specified folder\n",
    "sdf_yellow_2016_01_to_03 = spark.read.parquet('../data/raw/yellow_taxi_reduced/2016_01_to_03.parquet/*')\n",
    "sdf_yellow_2016_04_to_06 = spark.read.parquet('../data/raw/yellow_taxi_reduced/2016_04_to_06.parquet/*')\n",
    "sdf_yellow_2016_07_to_09 = spark.read.parquet('../data/raw/yellow_taxi_reduced/2016_07_to_09.parquet/*')\n",
    "sdf_yellow_2016_10_to_12 = spark.read.parquet('../data/raw/yellow_taxi_reduced/2016_10_to_12.parquet/*')\n",
    "\n",
    "sdf_yellow_2017_01_to_03 = spark.read.parquet('../data/raw/yellow_taxi_reduced/2017_01_to_03.parquet/*')\n",
    "sdf_yellow_2017_04_to_06 = spark.read.parquet('../data/raw/yellow_taxi_reduced/2017_04_to_06.parquet/*')\n",
    "sdf_yellow_2017_07_to_09 = spark.read.parquet('../data/raw/yellow_taxi_reduced/2017_07_to_09.parquet/*')\n",
    "sdf_yellow_2017_10_to_12 = spark.read.parquet('../data/raw/yellow_taxi_reduced/2017_10_to_12.parquet/*')\n",
    "\n",
    "sdf_yellow_2018_01_to_03 = spark.read.parquet('../data/raw/yellow_taxi_reduced/2018_01_to_03.parquet/*')\n",
    "sdf_yellow_2018_04_to_06 = spark.read.parquet('../data/raw/yellow_taxi_reduced/2018_04_to_06.parquet/*')\n",
    "sdf_yellow_2018_07_to_09 = spark.read.parquet('../data/raw/yellow_taxi_reduced/2018_07_to_09.parquet/*')\n",
    "sdf_yellow_2018_10_to_12 = spark.read.parquet('../data/raw/yellow_taxi_reduced/2018_10_to_12.parquet/*')\n",
    "\n",
    "sdf_yellow_2019_01_to_03 = spark.read.parquet('../data/raw/yellow_taxi_reduced/2019_01_to_03.parquet/*')\n",
    "sdf_yellow_2019_04_to_06 = spark.read.parquet('../data/raw/yellow_taxi_reduced/2019_04_to_06.parquet/*')\n",
    "sdf_yellow_2019_07_to_09 = spark.read.parquet('../data/raw/yellow_taxi_reduced/2019_07_to_09.parquet/*')\n",
    "sdf_yellow_2019_10_to_12 = spark.read.parquet('../data/raw/yellow_taxi_reduced/2019_10_to_12.parquet/*')\n",
    "\n",
    "# List creation of all taxi data\n",
    "taxi_periods = [\n",
    "    sdf_yellow_2016_01_to_03,\n",
    "    sdf_yellow_2016_04_to_06,\n",
    "    sdf_yellow_2016_07_to_09,\n",
    "    sdf_yellow_2016_10_to_12,\n",
    "    sdf_yellow_2017_01_to_03,\n",
    "    sdf_yellow_2017_04_to_06,\n",
    "    sdf_yellow_2017_07_to_09,\n",
    "    sdf_yellow_2017_10_to_12,\n",
    "    sdf_yellow_2018_01_to_03,\n",
    "    sdf_yellow_2018_04_to_06,\n",
    "    sdf_yellow_2018_07_to_09,\n",
    "    sdf_yellow_2018_10_to_12,\n",
    "    sdf_yellow_2019_01_to_03,\n",
    "    sdf_yellow_2019_04_to_06,\n",
    "    sdf_yellow_2019_07_to_09,\n",
    "    sdf_yellow_2019_10_to_12,\n",
    "]"
   ]
  },
  {
   "cell_type": "markdown",
   "metadata": {},
   "source": [
    "Create weekend column"
   ]
  },
  {
   "cell_type": "code",
   "execution_count": 4,
   "metadata": {},
   "outputs": [],
   "source": [
    "# List to store modified DataFrames with the \"weekend\" column\n",
    "modified_taxi_periods = []\n",
    "\n",
    "# Loop through the list of DataFrames and add the \"weekend\" column\n",
    "for taxi_df in taxi_periods:\n",
    "    modified_taxi_df = taxi_df.withColumn(\"Weekend\", expr(\"(dayofweek(tpep_pickup_datetime) = 1) OR (dayofweek(tpep_pickup_datetime) = 7)\").cast(\"int\"))\n",
    "    modified_taxi_periods.append(modified_taxi_df)"
   ]
  },
  {
   "cell_type": "markdown",
   "metadata": {},
   "source": [
    "Create pick up hour and month column"
   ]
  },
  {
   "cell_type": "code",
   "execution_count": 5,
   "metadata": {},
   "outputs": [],
   "source": [
    "# List to store modified DataFrames with the \"month\" and \"hour\" columns\n",
    "timed_taxi_periods = []\n",
    "\n",
    "# Loop through the list of DataFrames and add the \"month\" and \"hour\" columns\n",
    "for taxi_df in modified_taxi_periods:\n",
    "    full_modified_taxi_df = taxi_df.withColumn(\"Month\", month(col(\"tpep_pickup_datetime\")))\n",
    "    full_modified_taxi_df = full_modified_taxi_df.withColumn(\"Hour\", hour(col(\"tpep_pickup_datetime\")))\n",
    "    timed_taxi_periods.append(full_modified_taxi_df)"
   ]
  },
  {
   "cell_type": "markdown",
   "metadata": {},
   "source": [
    "Create date column"
   ]
  },
  {
   "cell_type": "code",
   "execution_count": 6,
   "metadata": {},
   "outputs": [],
   "source": [
    "# Assuming timed_taxi_periods is your DataFrame list\n",
    "dated_taxi_periods = []\n",
    "\n",
    "for df in timed_taxi_periods:\n",
    "    # Add a new column \"Date\" based on \"tpep_pickup_datetime\"\n",
    "    df_with_date = df.withColumn(\"Date\", to_date(col(\"tpep_pickup_datetime\")))\n",
    "    dated_taxi_periods.append(df_with_date)"
   ]
  },
  {
   "cell_type": "markdown",
   "metadata": {},
   "source": [
    "Aggregate taxi data frame"
   ]
  },
  {
   "cell_type": "code",
   "execution_count": 7,
   "metadata": {},
   "outputs": [],
   "source": [
    "# Assuming `selected_dataframes` is your list of DataFrames\n",
    "# You can loop through each DataFrame in the list and perform aggregations\n",
    "taxi_hourly_dataframes = []\n",
    "for dataframe in dated_taxi_periods:\n",
    "    # Select the specified columns to keep\n",
    "    selected_columns = [\n",
    "        \"Hour\", \"Date\", \"PULocationID\", \"Weekend\", \"Month\"\n",
    "    ]\n",
    "    \n",
    "    # Group by pickup_hour, LocationID\n",
    "    grouped_data = dataframe.groupBy(*selected_columns).agg(\n",
    "        count(\"*\").alias(\"number_of_trips\"),\n",
    "    )\n",
    "    \n",
    "    # Append to aggregated_dataframes list\n",
    "    taxi_hourly_dataframes.append(grouped_data)"
   ]
  },
  {
   "cell_type": "markdown",
   "metadata": {},
   "source": [
    "Trying to save data"
   ]
  },
  {
   "cell_type": "code",
   "execution_count": 9,
   "metadata": {},
   "outputs": [
    {
     "name": "stderr",
     "output_type": "stream",
     "text": [
      "                                                                                \r"
     ]
    }
   ],
   "source": [
    "# Define a list of output paths for each 3-month block\n",
    "three_month_blocks = [\n",
    "    \"2016_01_to_03\", \"2016_04_to_06\", \"2016_07_to_09\", \"2016_10_to_12\",\n",
    "    \"2017_01_to_03\", \"2017_04_to_06\", \"2017_07_to_09\", \"2017_10_to_12\",\n",
    "    \"2018_01_to_03\", \"2018_04_to_06\", \"2018_07_to_09\", \"2018_10_to_12\",\n",
    "    \"2019_01_to_03\", \"2019_04_to_06\", \"2019_07_to_09\", \"2019_10_to_12\"\n",
    "]\n",
    "\n",
    "# Iterate through each DataFrame and its corresponding 3-month block\n",
    "for i, dataframe in enumerate(taxi_hourly_dataframes):\n",
    "    block_name = three_month_blocks[i]\n",
    "    output_path = f\"../data/raw/yellow_taxi_hourly/{block_name}.parquet\"\n",
    "    dataframe.write.parquet(output_path)\n"
   ]
  },
  {
   "cell_type": "markdown",
   "metadata": {},
   "source": [
    "Size of Taxi Dataframe"
   ]
  },
  {
   "cell_type": "code",
   "execution_count": 28,
   "metadata": {},
   "outputs": [
    {
     "name": "stderr",
     "output_type": "stream",
     "text": [
      "[Stage 187:======================================>                  (6 + 3) / 9]\r"
     ]
    },
    {
     "name": "stdout",
     "output_type": "stream",
     "text": [
      "Size of initial import: 4344263\n"
     ]
    },
    {
     "name": "stderr",
     "output_type": "stream",
     "text": [
      "                                                                                \r"
     ]
    }
   ],
   "source": [
    "# Function to count number of rows in data\n",
    "def calculate_total_rows(dataframes):\n",
    "    total_rows = 0\n",
    "    for df in dataframes:\n",
    "        total_rows += df.count()\n",
    "    return total_rows\n",
    "\n",
    "size_of_data = calculate_total_rows(taxi_hourly_dataframes)\n",
    "print(\"Size of aggregated hourly dataframes:\", size_of_data)\n",
    "\n",
    "\n",
    "# Stop the SparkSession\n",
    "spark.stop()"
   ]
  }
 ],
 "metadata": {
  "kernelspec": {
   "display_name": "Python 3",
   "language": "python",
   "name": "python3"
  },
  "language_info": {
   "codemirror_mode": {
    "name": "ipython",
    "version": 3
   },
   "file_extension": ".py",
   "mimetype": "text/x-python",
   "name": "python",
   "nbconvert_exporter": "python",
   "pygments_lexer": "ipython3",
   "version": "3.8.10"
  },
  "orig_nbformat": 4
 },
 "nbformat": 4,
 "nbformat_minor": 2
}
