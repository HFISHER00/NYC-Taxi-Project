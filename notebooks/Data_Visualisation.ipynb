{
 "cells": [
  {
   "cell_type": "code",
   "execution_count": 2,
   "metadata": {},
   "outputs": [],
   "source": [
    "from pyspark.sql import SparkSession\n",
    "import pandas as pd\n",
    "import geopandas as gpd\n",
    "import folium\n",
    "from shapely.geometry import Point"
   ]
  },
  {
   "cell_type": "code",
   "execution_count": 3,
   "metadata": {},
   "outputs": [
    {
     "name": "stderr",
     "output_type": "stream",
     "text": [
      "your 131072x1 screen size is bogus. expect trouble\n",
      "23/08/01 14:21:54 WARN Utils: Your hostname, LAPTOP-RELH58H1 resolves to a loopback address: 127.0.1.1; using 172.19.22.4 instead (on interface eth0)\n",
      "23/08/01 14:21:54 WARN Utils: Set SPARK_LOCAL_IP if you need to bind to another address\n",
      "Setting default log level to \"WARN\".\n",
      "To adjust logging level use sc.setLogLevel(newLevel). For SparkR, use setLogLevel(newLevel).\n",
      "23/08/01 14:21:56 WARN NativeCodeLoader: Unable to load native-hadoop library for your platform... using builtin-java classes where applicable\n",
      "                                                                                \r"
     ]
    }
   ],
   "source": [
    "# Create a new Spark session (if not already created)\n",
    "spark = SparkSession.builder.appName(\"Data Visualization\").getOrCreate()\n",
    "\n",
    "# Read the filtered data from the saved Parquet file\n",
    "Crash_results_filtered = spark.read.parquet('../data/landing/Crash_results_filtered.parquet')"
   ]
  },
  {
   "cell_type": "code",
   "execution_count": 4,
   "metadata": {},
   "outputs": [
    {
     "name": "stderr",
     "output_type": "stream",
     "text": [
      "23/08/01 14:22:09 WARN package: Truncated the string representation of a plan since it was too large. This behavior can be adjusted by setting 'spark.sql.debug.maxToStringFields'.\n",
      "                                                                                \r"
     ]
    },
    {
     "data": {
      "text/html": [
       "<div style=\"width:100%;\"><div style=\"position:relative;width:100%;height:0;padding-bottom:60%;\"><span style=\"color:#565656\">Make this Notebook Trusted to load map: File -> Trust Notebook</span><iframe srcdoc=\"&lt;!DOCTYPE html&gt;\n",
       "&lt;html&gt;\n",
       "&lt;head&gt;\n",
       "    \n",
       "    &lt;meta http-equiv=&quot;content-type&quot; content=&quot;text/html; charset=UTF-8&quot; /&gt;\n",
       "    \n",
       "        &lt;script&gt;\n",
       "            L_NO_TOUCH = false;\n",
       "            L_DISABLE_3D = false;\n",
       "        &lt;/script&gt;\n",
       "    \n",
       "    &lt;style&gt;html, body {width: 100%;height: 100%;margin: 0;padding: 0;}&lt;/style&gt;\n",
       "    &lt;style&gt;#map {position:absolute;top:0;bottom:0;right:0;left:0;}&lt;/style&gt;\n",
       "    &lt;script src=&quot;https://cdn.jsdelivr.net/npm/leaflet@1.9.3/dist/leaflet.js&quot;&gt;&lt;/script&gt;\n",
       "    &lt;script src=&quot;https://code.jquery.com/jquery-1.12.4.min.js&quot;&gt;&lt;/script&gt;\n",
       "    &lt;script src=&quot;https://cdn.jsdelivr.net/npm/bootstrap@5.2.2/dist/js/bootstrap.bundle.min.js&quot;&gt;&lt;/script&gt;\n",
       "    &lt;script src=&quot;https://cdnjs.cloudflare.com/ajax/libs/Leaflet.awesome-markers/2.0.2/leaflet.awesome-markers.js&quot;&gt;&lt;/script&gt;\n",
       "    &lt;link rel=&quot;stylesheet&quot; href=&quot;https://cdn.jsdelivr.net/npm/leaflet@1.9.3/dist/leaflet.css&quot;/&gt;\n",
       "    &lt;link rel=&quot;stylesheet&quot; href=&quot;https://cdn.jsdelivr.net/npm/bootstrap@5.2.2/dist/css/bootstrap.min.css&quot;/&gt;\n",
       "    &lt;link rel=&quot;stylesheet&quot; href=&quot;https://netdna.bootstrapcdn.com/bootstrap/3.0.0/css/bootstrap.min.css&quot;/&gt;\n",
       "    &lt;link rel=&quot;stylesheet&quot; href=&quot;https://cdn.jsdelivr.net/npm/@fortawesome/fontawesome-free@6.2.0/css/all.min.css&quot;/&gt;\n",
       "    &lt;link rel=&quot;stylesheet&quot; href=&quot;https://cdnjs.cloudflare.com/ajax/libs/Leaflet.awesome-markers/2.0.2/leaflet.awesome-markers.css&quot;/&gt;\n",
       "    &lt;link rel=&quot;stylesheet&quot; href=&quot;https://cdn.jsdelivr.net/gh/python-visualization/folium/folium/templates/leaflet.awesome.rotate.min.css&quot;/&gt;\n",
       "    \n",
       "            &lt;meta name=&quot;viewport&quot; content=&quot;width=device-width,\n",
       "                initial-scale=1.0, maximum-scale=1.0, user-scalable=no&quot; /&gt;\n",
       "            &lt;style&gt;\n",
       "                #map_ea681065638677d62880f5e4813e7291 {\n",
       "                    position: relative;\n",
       "                    width: 100.0%;\n",
       "                    height: 100.0%;\n",
       "                    left: 0.0%;\n",
       "                    top: 0.0%;\n",
       "                }\n",
       "                .leaflet-container { font-size: 1rem; }\n",
       "            &lt;/style&gt;\n",
       "        \n",
       "&lt;/head&gt;\n",
       "&lt;body&gt;\n",
       "    \n",
       "    \n",
       "            &lt;div class=&quot;folium-map&quot; id=&quot;map_ea681065638677d62880f5e4813e7291&quot; &gt;&lt;/div&gt;\n",
       "        \n",
       "&lt;/body&gt;\n",
       "&lt;script&gt;\n",
       "    \n",
       "    \n",
       "            var map_ea681065638677d62880f5e4813e7291 = L.map(\n",
       "                &quot;map_ea681065638677d62880f5e4813e7291&quot;,\n",
       "                {\n",
       "                    center: [40.66, -73.94],\n",
       "                    crs: L.CRS.EPSG3857,\n",
       "                    zoom: 10,\n",
       "                    zoomControl: true,\n",
       "                    preferCanvas: false,\n",
       "                }\n",
       "            );\n",
       "\n",
       "            \n",
       "\n",
       "        \n",
       "    \n",
       "            var tile_layer_4ccb27bd5ae52240f7a7cf00f3e69d43 = L.tileLayer(\n",
       "                &quot;https://stamen-tiles-{s}.a.ssl.fastly.net/terrain/{z}/{x}/{y}.jpg&quot;,\n",
       "                {&quot;attribution&quot;: &quot;Map tiles by \\u003ca target=\\&quot;_blank\\&quot; href=\\&quot;http://stamen.com\\&quot;\\u003eStamen Design\\u003c/a\\u003e, under \\u003ca target=\\&quot;_blank\\&quot; href=\\&quot;http://creativecommons.org/licenses/by/3.0\\&quot;\\u003eCC BY 3.0\\u003c/a\\u003e. Data by \\u0026copy; \\u003ca target=\\&quot;_blank\\&quot; href=\\&quot;http://openstreetmap.org\\&quot;\\u003eOpenStreetMap\\u003c/a\\u003e, under \\u003ca target=\\&quot;_blank\\&quot; href=\\&quot;http://creativecommons.org/licenses/by-sa/3.0\\&quot;\\u003eCC BY SA\\u003c/a\\u003e.&quot;, &quot;detectRetina&quot;: false, &quot;maxNativeZoom&quot;: 18, &quot;maxZoom&quot;: 18, &quot;minZoom&quot;: 0, &quot;noWrap&quot;: false, &quot;opacity&quot;: 1, &quot;subdomains&quot;: &quot;abc&quot;, &quot;tms&quot;: false}\n",
       "            ).addTo(map_ea681065638677d62880f5e4813e7291);\n",
       "        \n",
       "    \n",
       "            var choropleth_8462954caf4bff14384be95a178e7c31 = L.featureGroup(\n",
       "                {}\n",
       "            ).addTo(map_ea681065638677d62880f5e4813e7291);\n",
       "        \n",
       "    \n",
       "        function geo_json_5bd14bd9d983e85bc323864795abd57c_styler(feature) {\n",
       "            switch(feature.id) {\n",
       "                default:\n",
       "                    return {&quot;color&quot;: &quot;black&quot;, &quot;fillColor&quot;: &quot;blue&quot;, &quot;fillOpacity&quot;: 0.6, &quot;opacity&quot;: 1, &quot;weight&quot;: 1};\n",
       "            }\n",
       "        }\n",
       "\n",
       "        function geo_json_5bd14bd9d983e85bc323864795abd57c_onEachFeature(feature, layer) {\n",
       "            layer.on({\n",
       "            });\n",
       "        };\n",
       "        var geo_json_5bd14bd9d983e85bc323864795abd57c = L.geoJson(null, {\n",
       "                onEachFeature: geo_json_5bd14bd9d983e85bc323864795abd57c_onEachFeature,\n",
       "            \n",
       "                style: geo_json_5bd14bd9d983e85bc323864795abd57c_styler,\n",
       "        });\n",
       "\n",
       "        function geo_json_5bd14bd9d983e85bc323864795abd57c_add (data) {\n",
       "            geo_json_5bd14bd9d983e85bc323864795abd57c\n",
       "                .addData(data)\n",
       "                .addTo(choropleth_8462954caf4bff14384be95a178e7c31);\n",
       "        }\n",
       "            geo_json_5bd14bd9d983e85bc323864795abd57c_add({&quot;bbox&quot;: [-73.9680671, 40.6328856, -73.732529, 40.7555046], &quot;features&quot;: [{&quot;bbox&quot;: [-73.79676, 40.724113, -73.79676, 40.724113], &quot;geometry&quot;: {&quot;coordinates&quot;: [-73.79676, 40.724113], &quot;type&quot;: &quot;Point&quot;}, &quot;id&quot;: &quot;0&quot;, &quot;properties&quot;: {&quot;BOROUGH&quot;: &quot;QUEENS&quot;, &quot;COLLISION_ID&quot;: 4392280, &quot;CONTRIBUTING FACTOR VEHICLE 1&quot;: &quot;Following Too Closely&quot;, &quot;CONTRIBUTING FACTOR VEHICLE 2&quot;: null, &quot;CONTRIBUTING FACTOR VEHICLE 3&quot;: null, &quot;CONTRIBUTING FACTOR VEHICLE 4&quot;: null, &quot;CONTRIBUTING FACTOR VEHICLE 5&quot;: null, &quot;CRASH DATE&quot;: &quot;02/16/2021&quot;, &quot;CRASH TIME&quot;: &quot;10:45&quot;, &quot;CROSS STREET NAME&quot;: &quot;172 STREET&quot;, &quot;LATITUDE&quot;: 40.724113, &quot;LOCATION&quot;: &quot;(40.724113, -73.79676)&quot;, &quot;LONGITUDE&quot;: -73.79676, &quot;NUMBER OF CYCLIST INJURED&quot;: 0, &quot;NUMBER OF CYCLIST KILLED&quot;: &quot;0&quot;, &quot;NUMBER OF MOTORIST INJURED&quot;: &quot;0&quot;, &quot;NUMBER OF MOTORIST KILLED&quot;: 0, &quot;NUMBER OF PEDESTRIANS INJURED&quot;: 0, &quot;NUMBER OF PEDESTRIANS KILLED&quot;: 0, &quot;NUMBER OF PERSONS INJURED&quot;: &quot;0&quot;, &quot;NUMBER OF PERSONS KILLED&quot;: 0, &quot;OFF STREET NAME&quot;: null, &quot;ON STREET NAME&quot;: &quot;UNION TURNPIKE                  &quot;, &quot;VEHICLE TYPE CODE 1&quot;: &quot;Tractor Truck Diesel&quot;, &quot;VEHICLE TYPE CODE 2&quot;: null, &quot;VEHICLE TYPE CODE 3&quot;: null, &quot;VEHICLE TYPE CODE 4&quot;: null, &quot;VEHICLE TYPE CODE 5&quot;: null, &quot;ZIP CODE&quot;: &quot;11366&quot;}, &quot;type&quot;: &quot;Feature&quot;}, {&quot;bbox&quot;: [-73.95311, 40.671787, -73.95311, 40.671787], &quot;geometry&quot;: {&quot;coordinates&quot;: [-73.95311, 40.671787], &quot;type&quot;: &quot;Point&quot;}, &quot;id&quot;: &quot;1&quot;, &quot;properties&quot;: {&quot;BOROUGH&quot;: &quot;BROOKLYN&quot;, &quot;COLLISION_ID&quot;: 3925888, &quot;CONTRIBUTING FACTOR VEHICLE 1&quot;: &quot;Passing or Lane Usage Improper&quot;, &quot;CONTRIBUTING FACTOR VEHICLE 2&quot;: &quot;Unspecified&quot;, &quot;CONTRIBUTING FACTOR VEHICLE 3&quot;: &quot;Unspecified&quot;, &quot;CONTRIBUTING FACTOR VEHICLE 4&quot;: null, &quot;CONTRIBUTING FACTOR VEHICLE 5&quot;: null, &quot;CRASH DATE&quot;: &quot;06/15/2018&quot;, &quot;CRASH TIME&quot;: &quot;0:00&quot;, &quot;CROSS STREET NAME&quot;: &quot;ROGERS AVENUE&quot;, &quot;LATITUDE&quot;: 40.671787, &quot;LOCATION&quot;: &quot;(40.671787, -73.95311)&quot;, &quot;LONGITUDE&quot;: -73.95311, &quot;NUMBER OF CYCLIST INJURED&quot;: 0, &quot;NUMBER OF CYCLIST KILLED&quot;: &quot;0&quot;, &quot;NUMBER OF MOTORIST INJURED&quot;: &quot;1&quot;, &quot;NUMBER OF MOTORIST KILLED&quot;: 0, &quot;NUMBER OF PEDESTRIANS INJURED&quot;: 0, &quot;NUMBER OF PEDESTRIANS KILLED&quot;: 0, &quot;NUMBER OF PERSONS INJURED&quot;: &quot;1&quot;, &quot;NUMBER OF PERSONS KILLED&quot;: 0, &quot;OFF STREET NAME&quot;: null, &quot;ON STREET NAME&quot;: &quot;SAINT JOHNS PLACE               &quot;, &quot;VEHICLE TYPE CODE 1&quot;: &quot;Sedan&quot;, &quot;VEHICLE TYPE CODE 2&quot;: &quot;Sedan&quot;, &quot;VEHICLE TYPE CODE 3&quot;: &quot;Sedan&quot;, &quot;VEHICLE TYPE CODE 4&quot;: null, &quot;VEHICLE TYPE CODE 5&quot;: null, &quot;ZIP CODE&quot;: &quot;11216&quot;}, &quot;type&quot;: &quot;Feature&quot;}, {&quot;bbox&quot;: [-73.9476978, 40.6328856, -73.9476978, 40.6328856], &quot;geometry&quot;: {&quot;coordinates&quot;: [-73.9476978, 40.6328856], &quot;type&quot;: &quot;Point&quot;}, &quot;id&quot;: &quot;2&quot;, &quot;properties&quot;: {&quot;BOROUGH&quot;: &quot;BROOKLYN&quot;, &quot;COLLISION_ID&quot;: 147938, &quot;CONTRIBUTING FACTOR VEHICLE 1&quot;: &quot;Unspecified&quot;, &quot;CONTRIBUTING FACTOR VEHICLE 2&quot;: &quot;Unspecified&quot;, &quot;CONTRIBUTING FACTOR VEHICLE 3&quot;: null, &quot;CONTRIBUTING FACTOR VEHICLE 4&quot;: null, &quot;CONTRIBUTING FACTOR VEHICLE 5&quot;: null, &quot;CRASH DATE&quot;: &quot;09/06/2012&quot;, &quot;CRASH TIME&quot;: &quot;11:45&quot;, &quot;CROSS STREET NAME&quot;: &quot;FLATBUSH AVENUE                 &quot;, &quot;LATITUDE&quot;: 40.6328856, &quot;LOCATION&quot;: &quot;(40.6328856, -73.9476978)&quot;, &quot;LONGITUDE&quot;: -73.9476978, &quot;NUMBER OF CYCLIST INJURED&quot;: 0, &quot;NUMBER OF CYCLIST KILLED&quot;: &quot;0&quot;, &quot;NUMBER OF MOTORIST INJURED&quot;: &quot;0&quot;, &quot;NUMBER OF MOTORIST KILLED&quot;: 0, &quot;NUMBER OF PEDESTRIANS INJURED&quot;: 0, &quot;NUMBER OF PEDESTRIANS KILLED&quot;: 0, &quot;NUMBER OF PERSONS INJURED&quot;: &quot;0&quot;, &quot;NUMBER OF PERSONS KILLED&quot;: 0, &quot;OFF STREET NAME&quot;: null, &quot;ON STREET NAME&quot;: &quot;NOSTRAND AVENUE                 &quot;, &quot;VEHICLE TYPE CODE 1&quot;: &quot;PICK-UP TRUCK&quot;, &quot;VEHICLE TYPE CODE 2&quot;: &quot;BUS&quot;, &quot;VEHICLE TYPE CODE 3&quot;: null, &quot;VEHICLE TYPE CODE 4&quot;: null, &quot;VEHICLE TYPE CODE 5&quot;: null, &quot;ZIP CODE&quot;: &quot;11210&quot;}, &quot;type&quot;: &quot;Feature&quot;}, {&quot;bbox&quot;: [-73.732529, 40.6653702, -73.732529, 40.6653702], &quot;geometry&quot;: {&quot;coordinates&quot;: [-73.732529, 40.6653702], &quot;type&quot;: &quot;Point&quot;}, &quot;id&quot;: &quot;3&quot;, &quot;properties&quot;: {&quot;BOROUGH&quot;: &quot;QUEENS&quot;, &quot;COLLISION_ID&quot;: 3216306, &quot;CONTRIBUTING FACTOR VEHICLE 1&quot;: &quot;Outside Car Distraction&quot;, &quot;CONTRIBUTING FACTOR VEHICLE 2&quot;: null, &quot;CONTRIBUTING FACTOR VEHICLE 3&quot;: null, &quot;CONTRIBUTING FACTOR VEHICLE 4&quot;: null, &quot;CONTRIBUTING FACTOR VEHICLE 5&quot;: null, &quot;CRASH DATE&quot;: &quot;05/07/2015&quot;, &quot;CRASH TIME&quot;: &quot;1:00&quot;, &quot;CROSS STREET NAME&quot;: &quot;246 STREET                      &quot;, &quot;LATITUDE&quot;: 40.6653702, &quot;LOCATION&quot;: &quot;(40.6653702, -73.732529)&quot;, &quot;LONGITUDE&quot;: -73.732529, &quot;NUMBER OF CYCLIST INJURED&quot;: 0, &quot;NUMBER OF CYCLIST KILLED&quot;: &quot;0&quot;, &quot;NUMBER OF MOTORIST INJURED&quot;: &quot;0&quot;, &quot;NUMBER OF MOTORIST KILLED&quot;: 0, &quot;NUMBER OF PEDESTRIANS INJURED&quot;: 0, &quot;NUMBER OF PEDESTRIANS KILLED&quot;: 0, &quot;NUMBER OF PERSONS INJURED&quot;: &quot;0&quot;, &quot;NUMBER OF PERSONS KILLED&quot;: 0, &quot;OFF STREET NAME&quot;: null, &quot;ON STREET NAME&quot;: &quot;SOUTH CONDUIT AVENUE            &quot;, &quot;VEHICLE TYPE CODE 1&quot;: &quot;PASSENGER VEHICLE&quot;, &quot;VEHICLE TYPE CODE 2&quot;: null, &quot;VEHICLE TYPE CODE 3&quot;: null, &quot;VEHICLE TYPE CODE 4&quot;: null, &quot;VEHICLE TYPE CODE 5&quot;: null, &quot;ZIP CODE&quot;: &quot;11422&quot;}, &quot;type&quot;: &quot;Feature&quot;}, {&quot;bbox&quot;: [-73.9680671, 40.7555046, -73.9680671, 40.7555046], &quot;geometry&quot;: {&quot;coordinates&quot;: [-73.9680671, 40.7555046], &quot;type&quot;: &quot;Point&quot;}, &quot;id&quot;: &quot;4&quot;, &quot;properties&quot;: {&quot;BOROUGH&quot;: &quot;MANHATTAN&quot;, &quot;COLLISION_ID&quot;: 1014339, &quot;CONTRIBUTING FACTOR VEHICLE 1&quot;: &quot;Unspecified&quot;, &quot;CONTRIBUTING FACTOR VEHICLE 2&quot;: &quot;Unspecified&quot;, &quot;CONTRIBUTING FACTOR VEHICLE 3&quot;: null, &quot;CONTRIBUTING FACTOR VEHICLE 4&quot;: null, &quot;CONTRIBUTING FACTOR VEHICLE 5&quot;: null, &quot;CRASH DATE&quot;: &quot;08/27/2014&quot;, &quot;CRASH TIME&quot;: &quot;14:45&quot;, &quot;CROSS STREET NAME&quot;: &quot;2 AVENUE                        &quot;, &quot;LATITUDE&quot;: 40.7555046, &quot;LOCATION&quot;: &quot;(40.7555046, -73.9680671)&quot;, &quot;LONGITUDE&quot;: -73.9680671, &quot;NUMBER OF CYCLIST INJURED&quot;: 0, &quot;NUMBER OF CYCLIST KILLED&quot;: &quot;0&quot;, &quot;NUMBER OF MOTORIST INJURED&quot;: &quot;0&quot;, &quot;NUMBER OF MOTORIST KILLED&quot;: 0, &quot;NUMBER OF PEDESTRIANS INJURED&quot;: 0, &quot;NUMBER OF PEDESTRIANS KILLED&quot;: 0, &quot;NUMBER OF PERSONS INJURED&quot;: &quot;0&quot;, &quot;NUMBER OF PERSONS KILLED&quot;: 0, &quot;OFF STREET NAME&quot;: null, &quot;ON STREET NAME&quot;: &quot;EAST 51 STREET                  &quot;, &quot;VEHICLE TYPE CODE 1&quot;: &quot;BUS&quot;, &quot;VEHICLE TYPE CODE 2&quot;: &quot;SPORT UTILITY / STATION WAGON&quot;, &quot;VEHICLE TYPE CODE 3&quot;: null, &quot;VEHICLE TYPE CODE 4&quot;: null, &quot;VEHICLE TYPE CODE 5&quot;: null, &quot;ZIP CODE&quot;: &quot;10022&quot;}, &quot;type&quot;: &quot;Feature&quot;}], &quot;type&quot;: &quot;FeatureCollection&quot;});\n",
       "\n",
       "        \n",
       "&lt;/script&gt;\n",
       "&lt;/html&gt;\" style=\"position:absolute;width:100%;height:100%;left:0;top:0;border:none !important;\" allowfullscreen webkitallowfullscreen mozallowfullscreen></iframe></div></div>"
      ],
      "text/plain": [
       "<folium.folium.Map at 0x7fe3f91e1fd0>"
      ]
     },
     "execution_count": 4,
     "metadata": {},
     "output_type": "execute_result"
    }
   ],
   "source": [
    "# Sample 5% of the data\n",
    "sampled_data = Crash_results_filtered.sample(fraction=0.000005, seed=42)\n",
    "\n",
    "# Convert Spark DataFrame to Pandas DataFrame\n",
    "crash_results_pd = sampled_data.toPandas()\n",
    "\n",
    "# Create a GeoPandas DataFrame with the spatial information (latitude and longitude)\n",
    "geometry = [Point(xy) for xy in zip(crash_results_pd[\"LONGITUDE\"], crash_results_pd[\"LATITUDE\"])]\n",
    "crash_results_geo = gpd.GeoDataFrame(crash_results_pd, crs=\"EPSG:4326\", geometry=geometry)\n",
    "\n",
    "# Initialize the map with a center location and zoom level\n",
    "_map = folium.Map(location=[40.66, -73.94], tiles=\"Stamen Terrain\", zoom_start=10)\n",
    "\n",
    "# Create a GeoJSON data from the GeoDataFrame (crash_results_geo) to use with Folium\n",
    "geoJSON = crash_results_geo.__geo_interface__\n",
    "\n",
    "# Add the choropleth layer to the map\n",
    "_map.add_child(folium.Choropleth(\n",
    "    geo_data=geoJSON,\n",
    "    name='choropleth',\n",
    "))\n",
    "\n",
    "# Save the map as an HTML file\n",
    "_map.save('../plots/foliumChoroplethMap.html')\n",
    "\n",
    "# Display the map\n",
    "_map\n"
   ]
  }
 ],
 "metadata": {
  "kernelspec": {
   "display_name": "Python 3",
   "language": "python",
   "name": "python3"
  },
  "language_info": {
   "codemirror_mode": {
    "name": "ipython",
    "version": 3
   },
   "file_extension": ".py",
   "mimetype": "text/x-python",
   "name": "python",
   "nbconvert_exporter": "python",
   "pygments_lexer": "ipython3",
   "version": "3.8.10"
  },
  "orig_nbformat": 4
 },
 "nbformat": 4,
 "nbformat_minor": 2
}
