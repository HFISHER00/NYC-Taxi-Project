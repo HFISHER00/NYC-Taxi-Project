{
 "cells": [
  {
   "cell_type": "code",
   "execution_count": null,
   "metadata": {},
   "outputs": [],
   "source": [
    "import pandas as pd\n",
    "import geopandas as gpd\n",
    "from pyspark.sql import SparkSession\n",
    "from shapely.geometry import Point"
   ]
  },
  {
   "cell_type": "code",
   "execution_count": null,
   "metadata": {},
   "outputs": [],
   "source": [
    "# Create a new Spark session (if not already created)\n",
    "spark = SparkSession.builder.appName(\"Data Visualization\").getOrCreate()\n",
    "\n",
    "# Read the filtered data from the saved Parquet file\n",
    "Crash_results_filtered = spark.read.parquet('../data/processed/Crash_results_filtered.parquet')"
   ]
  },
  {
   "cell_type": "code",
   "execution_count": null,
   "metadata": {},
   "outputs": [],
   "source": [
    "# Convert Spark DataFrame to Pandas DataFrame\n",
    "crash_results_pd = Crash_results_filtered.toPandas()\n",
    "\n",
    "# Create a geometry column with Point objects representing the spatial coordinates\n",
    "geometry = [Point(xy) for xy in zip(crash_results_pd[\"LONGITUDE\"], crash_results_pd[\"LATITUDE\"])]\n",
    "\n",
    "# Create a GeoDataFrame from the Pandas DataFrame with the spatial information\n",
    "crash_results_geo = gpd.GeoDataFrame(crash_results_pd, crs=\"EPSG:4326\", geometry=geometry)\n"
   ]
  },
  {
   "cell_type": "code",
   "execution_count": null,
   "metadata": {},
   "outputs": [],
   "source": [
    "# Plot the GeoDataFrame on a map\n",
    "crash_results_geo.plot()"
   ]
  }
 ],
 "metadata": {
  "language_info": {
   "name": "python"
  },
  "orig_nbformat": 4
 },
 "nbformat": 4,
 "nbformat_minor": 2
}
