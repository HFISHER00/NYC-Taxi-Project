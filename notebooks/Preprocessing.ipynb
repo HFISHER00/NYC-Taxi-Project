{
 "cells": [
  {
   "cell_type": "code",
   "execution_count": 77,
   "metadata": {},
   "outputs": [],
   "source": [
    "import pandas as pd\n",
    "from pyspark.sql import SparkSession, functions as F"
   ]
  },
  {
   "cell_type": "code",
   "execution_count": 78,
   "metadata": {},
   "outputs": [],
   "source": [
    "# Create a spark session (which will run spark jobs)\n",
    "spark = (\n",
    "    SparkSession.builder.appName(\"MAST30034 Project 1\")\n",
    "    .config(\"spark.sql.repl.eagerEval.enabled\", True)\n",
    "    .config(\"spark.sql.parquet.cacheMetadata\", \"true\")\n",
    "    .config(\"spark.sql.session.timeZone\", \"Etc/UTC\")\n",
    "    .config('spark.driver.memory', '4g')\n",
    "    .config('spark.executor.memory', '2g')\n",
    "    .getOrCreate()\n",
    ")"
   ]
  },
  {
   "cell_type": "markdown",
   "metadata": {},
   "source": [
    "Converting Crash Data to parquet file"
   ]
  },
  {
   "cell_type": "code",
   "execution_count": 4,
   "metadata": {},
   "outputs": [
    {
     "name": "stderr",
     "output_type": "stream",
     "text": [
      "23/08/02 14:35:57 WARN package: Truncated the string representation of a plan since it was too large. This behavior can be adjusted by setting 'spark.sql.debug.maxToStringFields'.\n"
     ]
    },
    {
     "ename": "AnalysisException",
     "evalue": "[PATH_ALREADY_EXISTS] Path file:/mnt/c/Users/61435/Desktop/Applied Data/Project1/mast30034-project-1-HFISHER00/data/raw/NYC_Vehicle_Collisions_Crashes.parquet already exists. Set mode as \"overwrite\" to overwrite the existing path.",
     "output_type": "error",
     "traceback": [
      "\u001b[0;31m---------------------------------------------------------------------------\u001b[0m",
      "\u001b[0;31mAnalysisException\u001b[0m                         Traceback (most recent call last)",
      "Cell \u001b[0;32mIn[4], line 9\u001b[0m\n\u001b[1;32m      7\u001b[0m \u001b[39m# Step 3: Write the DataFrame to a Parquet file\u001b[39;00m\n\u001b[1;32m      8\u001b[0m parquet_output_path \u001b[39m=\u001b[39m \u001b[39m\"\u001b[39m\u001b[39m../data/raw/NYC_Vehicle_Collisions_Crashes.parquet\u001b[39m\u001b[39m\"\u001b[39m\n\u001b[0;32m----> 9\u001b[0m df\u001b[39m.\u001b[39;49mwrite\u001b[39m.\u001b[39;49mparquet(parquet_output_path)\n",
      "File \u001b[0;32m~/.local/lib/python3.8/site-packages/pyspark/sql/readwriter.py:1656\u001b[0m, in \u001b[0;36mDataFrameWriter.parquet\u001b[0;34m(self, path, mode, partitionBy, compression)\u001b[0m\n\u001b[1;32m   1654\u001b[0m     \u001b[39mself\u001b[39m\u001b[39m.\u001b[39mpartitionBy(partitionBy)\n\u001b[1;32m   1655\u001b[0m \u001b[39mself\u001b[39m\u001b[39m.\u001b[39m_set_opts(compression\u001b[39m=\u001b[39mcompression)\n\u001b[0;32m-> 1656\u001b[0m \u001b[39mself\u001b[39;49m\u001b[39m.\u001b[39;49m_jwrite\u001b[39m.\u001b[39;49mparquet(path)\n",
      "File \u001b[0;32m~/.local/lib/python3.8/site-packages/py4j/java_gateway.py:1322\u001b[0m, in \u001b[0;36mJavaMember.__call__\u001b[0;34m(self, *args)\u001b[0m\n\u001b[1;32m   1316\u001b[0m command \u001b[39m=\u001b[39m proto\u001b[39m.\u001b[39mCALL_COMMAND_NAME \u001b[39m+\u001b[39m\\\n\u001b[1;32m   1317\u001b[0m     \u001b[39mself\u001b[39m\u001b[39m.\u001b[39mcommand_header \u001b[39m+\u001b[39m\\\n\u001b[1;32m   1318\u001b[0m     args_command \u001b[39m+\u001b[39m\\\n\u001b[1;32m   1319\u001b[0m     proto\u001b[39m.\u001b[39mEND_COMMAND_PART\n\u001b[1;32m   1321\u001b[0m answer \u001b[39m=\u001b[39m \u001b[39mself\u001b[39m\u001b[39m.\u001b[39mgateway_client\u001b[39m.\u001b[39msend_command(command)\n\u001b[0;32m-> 1322\u001b[0m return_value \u001b[39m=\u001b[39m get_return_value(\n\u001b[1;32m   1323\u001b[0m     answer, \u001b[39mself\u001b[39;49m\u001b[39m.\u001b[39;49mgateway_client, \u001b[39mself\u001b[39;49m\u001b[39m.\u001b[39;49mtarget_id, \u001b[39mself\u001b[39;49m\u001b[39m.\u001b[39;49mname)\n\u001b[1;32m   1325\u001b[0m \u001b[39mfor\u001b[39;00m temp_arg \u001b[39min\u001b[39;00m temp_args:\n\u001b[1;32m   1326\u001b[0m     \u001b[39mif\u001b[39;00m \u001b[39mhasattr\u001b[39m(temp_arg, \u001b[39m\"\u001b[39m\u001b[39m_detach\u001b[39m\u001b[39m\"\u001b[39m):\n",
      "File \u001b[0;32m~/.local/lib/python3.8/site-packages/pyspark/errors/exceptions/captured.py:175\u001b[0m, in \u001b[0;36mcapture_sql_exception.<locals>.deco\u001b[0;34m(*a, **kw)\u001b[0m\n\u001b[1;32m    171\u001b[0m converted \u001b[39m=\u001b[39m convert_exception(e\u001b[39m.\u001b[39mjava_exception)\n\u001b[1;32m    172\u001b[0m \u001b[39mif\u001b[39;00m \u001b[39mnot\u001b[39;00m \u001b[39misinstance\u001b[39m(converted, UnknownException):\n\u001b[1;32m    173\u001b[0m     \u001b[39m# Hide where the exception came from that shows a non-Pythonic\u001b[39;00m\n\u001b[1;32m    174\u001b[0m     \u001b[39m# JVM exception message.\u001b[39;00m\n\u001b[0;32m--> 175\u001b[0m     \u001b[39mraise\u001b[39;00m converted \u001b[39mfrom\u001b[39;00m \u001b[39mNone\u001b[39;00m\n\u001b[1;32m    176\u001b[0m \u001b[39melse\u001b[39;00m:\n\u001b[1;32m    177\u001b[0m     \u001b[39mraise\u001b[39;00m\n",
      "\u001b[0;31mAnalysisException\u001b[0m: [PATH_ALREADY_EXISTS] Path file:/mnt/c/Users/61435/Desktop/Applied Data/Project1/mast30034-project-1-HFISHER00/data/raw/NYC_Vehicle_Collisions_Crashes.parquet already exists. Set mode as \"overwrite\" to overwrite the existing path."
     ]
    }
   ],
   "source": [
    "# Step 1: Provide the path to the CSV file\n",
    "csv_file_path = \"../data/raw/NYC_Vehicle_Collisions_Crashes.csv\"\n",
    "\n",
    "# Step 2: Read the CSV file into a Spark DataFrame\n",
    "df = spark.read.csv(csv_file_path, header=True, inferSchema=True)\n",
    "\n",
    "# Step 3: Write the DataFrame to a Parquet file\n",
    "parquet_output_path = \"../data/raw/NYC_Vehicle_Collisions_Crashes.parquet\"\n",
    "df.write.parquet(parquet_output_path)\n"
   ]
  },
  {
   "cell_type": "markdown",
   "metadata": {},
   "source": [
    "REMOVING CRASHES WITH NULL FOR BOROUGH (LOCATION)"
   ]
  },
  {
   "cell_type": "code",
   "execution_count": 64,
   "metadata": {},
   "outputs": [
    {
     "name": "stderr",
     "output_type": "stream",
     "text": [
      "                                                                                \r"
     ]
    },
    {
     "name": "stdout",
     "output_type": "stream",
     "text": [
      "+----------+----------+-------------+--------+---------+----------+--------------------+--------------------+------------------+--------------------+-------------------------+------------------------+-----------------------------+----------------------------+-------------------------+------------------------+--------------------------+-------------------------+-----------------------------+-----------------------------+-----------------------------+-----------------------------+-----------------------------+------------+--------------------+--------------------+-------------------+-------------------+-------------------+\n",
      "|CRASH DATE|CRASH TIME|      BOROUGH|ZIP CODE| LATITUDE| LONGITUDE|            LOCATION|      ON STREET NAME| CROSS STREET NAME|     OFF STREET NAME|NUMBER OF PERSONS INJURED|NUMBER OF PERSONS KILLED|NUMBER OF PEDESTRIANS INJURED|NUMBER OF PEDESTRIANS KILLED|NUMBER OF CYCLIST INJURED|NUMBER OF CYCLIST KILLED|NUMBER OF MOTORIST INJURED|NUMBER OF MOTORIST KILLED|CONTRIBUTING FACTOR VEHICLE 1|CONTRIBUTING FACTOR VEHICLE 2|CONTRIBUTING FACTOR VEHICLE 3|CONTRIBUTING FACTOR VEHICLE 4|CONTRIBUTING FACTOR VEHICLE 5|COLLISION_ID| VEHICLE TYPE CODE 1| VEHICLE TYPE CODE 2|VEHICLE TYPE CODE 3|VEHICLE TYPE CODE 4|VEHICLE TYPE CODE 5|\n",
      "+----------+----------+-------------+--------+---------+----------+--------------------+--------------------+------------------+--------------------+-------------------------+------------------------+-----------------------------+----------------------------+-------------------------+------------------------+--------------------------+-------------------------+-----------------------------+-----------------------------+-----------------------------+-----------------------------+-----------------------------+------------+--------------------+--------------------+-------------------+-------------------+-------------------+\n",
      "|09/11/2021|      9:35|     BROOKLYN|   11208|40.667202|  -73.8665|(40.667202, -73.8...|                null|              null|1211      LORING ...|                        0|                       0|                            0|                           0|                        0|                       0|                         0|                        0|                  Unspecified|                         null|                         null|                         null|                         null|     4456314|               Sedan|                null|               null|               null|               null|\n",
      "|12/14/2021|      8:13|     BROOKLYN|   11233|40.683304|-73.917274|(40.683304, -73.9...|     SARATOGA AVENUE|    DECATUR STREET|                null|                        0|                       0|                            0|                           0|                        0|                       0|                         0|                        0|                         null|                         null|                         null|                         null|                         null|     4486609|                null|                null|               null|               null|               null|\n",
      "|12/14/2021|      8:17|        BRONX|   10475| 40.86816| -73.83148|(40.86816, -73.83...|                null|              null|344       BAYCHES...|                        2|                       0|                            0|                           0|                        0|                       0|                         2|                        0|                  Unspecified|                  Unspecified|                         null|                         null|                         null|     4486660|               Sedan|               Sedan|               null|               null|               null|\n",
      "|12/14/2021|     21:10|     BROOKLYN|   11207| 40.67172|  -73.8971|(40.67172, -73.8971)|                null|              null|2047      PITKIN ...|                        0|                       0|                            0|                           0|                        0|                       0|                         0|                        0|          Driver Inexperience|                  Unspecified|                         null|                         null|                         null|     4487074|               Sedan|                null|               null|               null|               null|\n",
      "|12/14/2021|     14:58|    MANHATTAN|   10017| 40.75144| -73.97397|(40.75144, -73.97...|            3 AVENUE|    EAST 43 STREET|                null|                        0|                       0|                            0|                           0|                        0|                       0|                         0|                        0|          Passing Too Closely|                  Unspecified|                         null|                         null|                         null|     4486519|               Sedan|Station Wagon/Spo...|               null|               null|               null|\n",
      "|12/14/2021|     16:50|       QUEENS|   11413|40.675884| -73.75577|(40.675884, -73.7...|SPRINGFIELD BOULE...|   EAST GATE PLAZA|                null|                        0|                       0|                            0|                           0|                        0|                       0|                         0|                        0|           Turning Improperly|                  Unspecified|                         null|                         null|                         null|     4487127|               Sedan|Station Wagon/Spo...|               null|               null|               null|\n",
      "|12/14/2021|     23:10|       QUEENS|   11434| 40.66684| -73.78941|(40.66684, -73.78...|NORTH CONDUIT AVENUE|        150 STREET|                null|                        2|                       0|                            0|                           0|                        0|                       0|                         2|                        0|         Reaction to Uninv...|                  Unspecified|                         null|                         null|                         null|     4486635|               Sedan|               Sedan|               null|               null|               null|\n",
      "|12/14/2021|     17:58|     BROOKLYN|   11217| 40.68158| -73.97463|(40.68158, -73.97...|                null|              null|480       DEAN ST...|                        0|                       0|                            0|                           0|                        0|                       0|                         0|                        0|          Passing Too Closely|                  Unspecified|                         null|                         null|                         null|     4486604|              Tanker|Station Wagon/Spo...|               null|               null|               null|\n",
      "|12/14/2021|     20:03|     BROOKLYN|   11226| 40.65068| -73.95881|(40.65068, -73.95...|                null|              null|878       FLATBUS...|                        4|                       0|                            0|                           0|                        0|                       0|                         4|                        0|             Steering Failure|                         null|                         null|                         null|                         null|     4486991|               Sedan|                null|               null|               null|               null|\n",
      "|12/11/2021|     19:43|        BRONX|   10463| 40.87262|-73.904686|(40.87262, -73.90...|WEST KINGSBRIDGE ...|      HEATH AVENUE|                null|                        1|                       0|                            0|                           0|                        0|                       0|                         1|                        0|                  Unspecified|                  Unspecified|                         null|                         null|                         null|     4487040|Station Wagon/Spo...|               Sedan|               null|               null|               null|\n",
      "|12/11/2021|      4:45|    MANHATTAN|   10001|40.748917|-73.993546|(40.748917, -73.9...|                null|              null|232       WEST 30...|                        0|                       0|                            0|                           0|                        0|                       0|                         0|                        0|         Following Too Clo...|                  Unspecified|                         null|                         null|                         null|     4486905|Station Wagon/Spo...|                null|               null|               null|               null|\n",
      "|12/13/2021|      6:30|       QUEENS|   11372| 40.75373| -73.88505|(40.75373, -73.88...|           82 STREET|         34 AVENUE|                null|                        0|                       0|                            0|                           0|                        0|                       0|                         0|                        0|                  Unspecified|                         null|                         null|                         null|                         null|     4486967|               Sedan|                null|               null|               null|               null|\n",
      "|12/13/2021|     17:40|STATEN ISLAND|   10301| 40.63165| -74.08762|(40.63165, -74.08...|   VICTORY BOULEVARD|  WOODSTOCK AVENUE|                null|                        1|                       0|                            0|                           0|                        0|                       0|                         1|                        0|                  Unspecified|                  Unspecified|                         null|                         null|                         null|     4487001|               Sedan|               Sedan|               null|               null|               null|\n",
      "|12/14/2021|     17:31|     BROOKLYN|   11230|40.623104| -73.95809|(40.623104, -73.9...|      EAST 18 STREET|          AVENUE K|                null|                        1|                       0|                            1|                           0|                        0|                       0|                         0|                        0|                  Unspecified|                         null|                         null|                         null|                         null|     4486516|               Sedan|                null|               null|               null|               null|\n",
      "|12/14/2021|     20:13|     BROOKLYN|   11215| 40.66576|  -73.9845|(40.66576, -73.9845)|                null|              null| 366       12 STREET|                        0|                       0|                            0|                           0|                        0|                       0|                         0|                        0|          Passing Too Closely|                  Unspecified|                         null|                         null|                         null|     4486605|               Sedan|                null|               null|               null|               null|\n",
      "|12/14/2021|     12:54|     BROOKLYN|   11217|40.687534|  -73.9775|(40.687534, -73.9...|       FULTON STREET|SAINT FELIX STREET|                null|                        1|                       0|                            0|                           0|                        1|                       0|                         0|                        0|                  Unspecified|                  Unspecified|                         null|                         null|                         null|     4487052|               Sedan|                Bike|               null|               null|               null|\n",
      "|12/14/2021|     17:15|     BROOKLYN|   11211|40.710957|-73.951126|(40.710957, -73.9...|        GRAND STREET|      UNION AVENUE|                null|                        1|                       0|                            0|                           0|                        0|                       0|                         1|                        0|         Passing or Lane U...|                  Unspecified|                         null|                         null|                         null|     4486556|                 Bus|Station Wagon/Spo...|               null|               null|               null|\n",
      "|12/14/2021|     22:49|        BRONX|   10455| 40.81813|-73.910126|(40.81813, -73.91...|                null|              null|713       EAGLE A...|                        0|                       0|                            0|                           0|                        0|                       0|                         0|                        0|         Driver Inattentio...|                  Unspecified|                         null|                         null|                         null|     4486875|                Taxi|                null|               null|               null|               null|\n",
      "|12/12/2021|      9:00|       QUEENS|   11385| 40.70447| -73.90148|(40.70447, -73.90...|                null|              null| 59-14     67 AVENUE|                        0|                       0|                            0|                           0|                        0|                       0|                         0|                        0|          Passing Too Closely|                  Unspecified|                         null|                         null|                         null|     4486933|Station Wagon/Spo...|                null|               null|               null|               null|\n",
      "|07/12/2022|     17:50|     BROOKLYN|   11225|40.663303| -73.96049|(40.663303, -73.9...|                null|              null|44        EMPIRE ...|                        0|                       0|                            0|                           0|                        0|                       0|                         0|                        0|            Oversized Vehicle|                  Unspecified|                         null|                         null|                         null|     4545699|               Sedan|                null|               null|               null|               null|\n",
      "+----------+----------+-------------+--------+---------+----------+--------------------+--------------------+------------------+--------------------+-------------------------+------------------------+-----------------------------+----------------------------+-------------------------+------------------------+--------------------------+-------------------------+-----------------------------+-----------------------------+-----------------------------+-----------------------------+-----------------------------+------------+--------------------+--------------------+-------------------+-------------------+-------------------+\n",
      "only showing top 20 rows\n",
      "\n"
     ]
    },
    {
     "name": "stderr",
     "output_type": "stream",
     "text": [
      "                                                                                \r"
     ]
    }
   ],
   "source": [
    "from pyspark.sql.functions import col\n",
    "\n",
    "# Create a Spark session\n",
    "spark = SparkSession.builder.appName(\"Remove Null Rows\").getOrCreate()\n",
    "\n",
    "# Read the parquet file into a DataFrame\n",
    "Crash_results = spark.read.parquet('../data/raw/NYC_Vehicle_Collisions_Crashes.parquet')\n",
    "\n",
    "# Filter out rows with null values in the \"BOROUGH\" column\n",
    "Crash_results_filtered = Crash_results.na.drop(subset=[\"BOROUGH\"])\n",
    "\n",
    "# Show the filtered DataFrame\n",
    "Crash_results_filtered.show()\n",
    "\n",
    "# Save the filtered DataFrame to a new Parquet file\n",
    "Crash_results_filtered.write.parquet('../data/landing/Crash_results_filtered.parquet', mode='overwrite')"
   ]
  },
  {
   "cell_type": "markdown",
   "metadata": {},
   "source": [
    "Convert Crime data JSON/csv's to parquets"
   ]
  },
  {
   "cell_type": "code",
   "execution_count": 83,
   "metadata": {},
   "outputs": [
    {
     "name": "stdout",
     "output_type": "stream",
     "text": [
      "Data converted to Parquet and saved successfully.\n"
     ]
    }
   ],
   "source": [
    "import pandas as pd\n",
    "import pyarrow as pa\n",
    "import pyarrow.parquet as pq\n",
    "import json\n",
    "\n",
    "# Read the JSON file into a DataFrame\n",
    "with open('../data/raw/shooting_data.json', 'r') as f:\n",
    "    data_list = json.load(f)\n",
    "\n",
    "df = pd.DataFrame(data_list)\n",
    "\n",
    "# Convert to Parquet and save the file\n",
    "table = pa.Table.from_pandas(df)\n",
    "pq.write_table(table, '../data/raw/shooting_data.parquet')\n",
    "\n",
    "print(\"Data converted to Parquet and saved successfully.\")\n"
   ]
  },
  {
   "cell_type": "code",
   "execution_count": 80,
   "metadata": {},
   "outputs": [
    {
     "name": "stderr",
     "output_type": "stream",
     "text": [
      "23/08/04 10:30:01 WARN package: Truncated the string representation of a plan since it was too large. This behavior can be adjusted by setting 'spark.sql.debug.maxToStringFields'.\n",
      "23/08/04 10:30:05 WARN MemoryManager: Total allocation exceeds 95.00% (906,992,014 bytes) of heap memory\n",
      "Scaling row group sizes to 96.54% for 7 writers\n",
      "23/08/04 10:30:05 WARN MemoryManager: Total allocation exceeds 95.00% (906,992,014 bytes) of heap memory\n",
      "Scaling row group sizes to 84.47% for 8 writers\n",
      "23/08/04 10:30:21 WARN MemoryManager: Total allocation exceeds 95.00% (906,992,014 bytes) of heap memory\n",
      "Scaling row group sizes to 96.54% for 7 writers\n",
      "23/08/04 10:30:22 WARN MemoryManager: Total allocation exceeds 95.00% (906,992,014 bytes) of heap memory\n",
      "Scaling row group sizes to 84.47% for 8 writers\n",
      "23/08/04 10:30:23 WARN MemoryManager: Total allocation exceeds 95.00% (906,992,014 bytes) of heap memory\n",
      "Scaling row group sizes to 96.54% for 7 writers\n",
      "23/08/04 10:30:24 WARN MemoryManager: Total allocation exceeds 95.00% (906,992,014 bytes) of heap memory\n",
      "Scaling row group sizes to 96.54% for 7 writers\n",
      "23/08/04 10:30:24 WARN MemoryManager: Total allocation exceeds 95.00% (906,992,014 bytes) of heap memory\n",
      "Scaling row group sizes to 84.47% for 8 writers\n",
      "23/08/04 10:30:38 WARN MemoryManager: Total allocation exceeds 95.00% (906,992,014 bytes) of heap memory\n",
      "Scaling row group sizes to 96.54% for 7 writers\n",
      "23/08/04 10:30:38 WARN MemoryManager: Total allocation exceeds 95.00% (906,992,014 bytes) of heap memory\n",
      "Scaling row group sizes to 84.47% for 8 writers\n",
      "23/08/04 10:30:39 WARN MemoryManager: Total allocation exceeds 95.00% (906,992,014 bytes) of heap memory\n",
      "Scaling row group sizes to 96.54% for 7 writers\n",
      "23/08/04 10:30:39 WARN MemoryManager: Total allocation exceeds 95.00% (906,992,014 bytes) of heap memory\n",
      "Scaling row group sizes to 84.47% for 8 writers\n",
      "23/08/04 10:30:40 WARN MemoryManager: Total allocation exceeds 95.00% (906,992,014 bytes) of heap memory\n",
      "Scaling row group sizes to 96.54% for 7 writers\n",
      "23/08/04 10:30:41 WARN MemoryManager: Total allocation exceeds 95.00% (906,992,014 bytes) of heap memory\n",
      "Scaling row group sizes to 96.54% for 7 writers\n",
      "23/08/04 10:30:41 WARN MemoryManager: Total allocation exceeds 95.00% (906,992,014 bytes) of heap memory\n",
      "Scaling row group sizes to 96.54% for 7 writers\n",
      "23/08/04 10:30:41 WARN MemoryManager: Total allocation exceeds 95.00% (906,992,014 bytes) of heap memory\n",
      "Scaling row group sizes to 96.54% for 7 writers\n",
      "                                                                                \r"
     ]
    }
   ],
   "source": [
    "from pyspark.sql import SparkSession\n",
    "\n",
    "# Assuming you already have a SparkSession called \"spark\"\n",
    "spark.conf.set(\"spark.sql.parquet.int96RebaseModeInWrite\", \"CORRECTED\")\n",
    "\n",
    "# Step 1: Provide the path to the CSV file\n",
    "csv_file_path = \"../data/raw/complaint_data.csv\"\n",
    "\n",
    "# Step 2: Read the CSV file into a Spark DataFrame\n",
    "df = spark.read.csv(csv_file_path, header=True, inferSchema=True)\n",
    "\n",
    "# Step 3: Write the DataFrame to a Parquet file\n",
    "parquet_output_path = \"../data/raw/complaint_data.parquet\"\n",
    "df.write.parquet(parquet_output_path)"
   ]
  },
  {
   "cell_type": "code",
   "execution_count": 82,
   "metadata": {},
   "outputs": [
    {
     "name": "stderr",
     "output_type": "stream",
     "text": [
      "23/08/04 10:32:20 WARN MemoryManager: Total allocation exceeds 95.00% (906,992,014 bytes) of heap memory\n",
      "Scaling row group sizes to 96.54% for 7 writers\n",
      "23/08/04 10:32:20 WARN MemoryManager: Total allocation exceeds 95.00% (906,992,014 bytes) of heap memory\n",
      "Scaling row group sizes to 84.47% for 8 writers\n",
      "23/08/04 10:32:40 WARN MemoryManager: Total allocation exceeds 95.00% (906,992,014 bytes) of heap memory\n",
      "Scaling row group sizes to 96.54% for 7 writers\n",
      "                                                                                \r"
     ]
    }
   ],
   "source": [
    "# Step 1: Provide the path to the CSV file\n",
    "csv_file_path = \"../data/raw/arrest_data.csv\"\n",
    "\n",
    "# Step 2: Read the CSV file into a Spark DataFrame\n",
    "df = spark.read.csv(csv_file_path, header=True, inferSchema=True)\n",
    "\n",
    "# Step 3: Write the DataFrame to a Parquet file\n",
    "parquet_output_path = \"../data/raw/arrest_data.parquet\"\n",
    "df.write.parquet(parquet_output_path)"
   ]
  },
  {
   "cell_type": "markdown",
   "metadata": {},
   "source": [
    "Removing unneccesary columns from crime data"
   ]
  },
  {
   "cell_type": "markdown",
   "metadata": {},
   "source": [
    "Shooting Data"
   ]
  },
  {
   "cell_type": "code",
   "execution_count": 89,
   "metadata": {},
   "outputs": [
    {
     "name": "stderr",
     "output_type": "stream",
     "text": [
      "                                                                                \r"
     ]
    }
   ],
   "source": [
    "from pyspark.sql import SparkSession\n",
    "\n",
    "# Step 1: Create a SparkSession\n",
    "spark = SparkSession.builder.appName(\"Reduce_Shot_Data\").getOrCreate()\n",
    "\n",
    "# Step 2: Read the existing Parquet file into a DataFrame\n",
    "parquet_input_path = \"../data/raw/shooting_data.parquet\"\n",
    "df = spark.read.parquet(parquet_input_path)\n",
    "\n",
    "# Step 3: Select the columns you want to keep and rename them\n",
    "selected_columns = [\n",
    "    \"INCIDENT_KEY as ID\",\n",
    "    \"OCCUR_DATE as Date\",\n",
    "    \"BORO as Borough\",\n",
    "    \"PRECINCT as Precinct\",\n",
    "    \"Latitude\",\n",
    "    \"Longitude\"\n",
    "]\n",
    "df_selected = df.selectExpr(*selected_columns)\n",
    "\n",
    "# Step 4: Write the selected DataFrame to a new Parquet file\n",
    "parquet_output_path = \"../data/raw/shooting_data_reduced.parquet\"\n",
    "df_selected.write.parquet(parquet_output_path)\n",
    "\n",
    "# Stop the SparkSession\n",
    "spark.stop()\n"
   ]
  },
  {
   "cell_type": "markdown",
   "metadata": {},
   "source": [
    "Complaint Data"
   ]
  },
  {
   "cell_type": "code",
   "execution_count": 90,
   "metadata": {},
   "outputs": [
    {
     "name": "stderr",
     "output_type": "stream",
     "text": [
      "23/08/04 10:38:23 WARN MemoryManager: Total allocation exceeds 95.00% (906,992,014 bytes) of heap memory\n",
      "Scaling row group sizes to 96.54% for 7 writers\n",
      "23/08/04 10:38:23 WARN MemoryManager: Total allocation exceeds 95.00% (906,992,014 bytes) of heap memory\n",
      "Scaling row group sizes to 84.47% for 8 writers\n",
      "23/08/04 10:38:29 WARN MemoryManager: Total allocation exceeds 95.00% (906,992,014 bytes) of heap memory\n",
      "Scaling row group sizes to 96.54% for 7 writers\n",
      "                                                                                \r"
     ]
    },
    {
     "name": "stdout",
     "output_type": "stream",
     "text": [
      "+---------+----------+-------------+--------+----------------+-----------------+\n",
      "|       ID|      Date|      Borough|Precinct|        Latitude|        Longitude|\n",
      "+---------+----------+-------------+--------+----------------+-----------------+\n",
      "|235489132|10/25/2021|       QUEENS|     104|       40.719592|        -73.87429|\n",
      "|235662029|10/25/2021|     BROOKLYN|      72|       40.648711|       -74.001185|\n",
      "|253030475|10/24/2021|    MANHATTAN|      28|       40.804082|       -73.955616|\n",
      "|235859529|10/29/2021|       QUEENS|     108|       40.742967|       -73.959204|\n",
      "|235768600|10/28/2021|     BROOKLYN|      73|       40.682875|       -73.910397|\n",
      "|235393344|10/23/2021|     BROOKLYN|      69|       40.634782|       -73.914405|\n",
      "|235599134|10/28/2021|     BROOKLYN|      76|       40.680168|       -74.005829|\n",
      "|235608545|10/27/2021|     BROOKLYN|      84|       40.693462|       -73.987241|\n",
      "|235557262|10/23/2021|    MANHATTAN|      18|       40.765838|       -73.997454|\n",
      "|235376644|10/21/2021|     BROOKLYN|      75|       40.678315|       -73.875641|\n",
      "|235490188|10/23/2021|        BRONX|      49|       40.853055|       -73.868945|\n",
      "|235581619|10/27/2021|     BROOKLYN|      84|40.6954388081238|-73.9832253756043|\n",
      "|239614760|10/24/2021|     BROOKLYN|      61|       40.590241|        -73.95334|\n",
      "|235388660|10/22/2021|STATEN ISLAND|     120|        40.63351|       -74.115631|\n",
      "|235569804|10/25/2021|       QUEENS|     106|       40.681394|       -73.829494|\n",
      "|235534379|10/26/2021|        BRONX|      44|       40.833933|       -73.920136|\n",
      "|235346214|10/21/2021|        BRONX|      48|       40.841465|       -73.880561|\n",
      "|235386238|10/21/2021|STATEN ISLAND|     122|       40.557925|       -74.121966|\n",
      "|235849544|10/29/2021|    MANHATTAN|      34|40.8512131676868|-73.9352160519866|\n",
      "|235388637|10/23/2021|     BROOKLYN|      71|       40.660698|       -73.941212|\n",
      "+---------+----------+-------------+--------+----------------+-----------------+\n",
      "only showing top 20 rows\n",
      "\n"
     ]
    }
   ],
   "source": [
    "from pyspark.sql import SparkSession\n",
    "\n",
    "# Step 1: Create a SparkSession\n",
    "spark = SparkSession.builder.appName(\"Reduce_Complaint_Data\").getOrCreate()\n",
    "\n",
    "# Set the configuration to rebase INT96 datetime values during writing\n",
    "spark.conf.set(\"spark.sql.parquet.int96RebaseModeInWrite\", \"LEGACY\")  # or \"CORRECTED\" depending on your use case\n",
    "\n",
    "# Step 2: Read the existing Parquet file into a DataFrame\n",
    "parquet_input_path = \"../data/raw/complaint_data.parquet\"\n",
    "df = spark.read.parquet(parquet_input_path)\n",
    "\n",
    "# Step 3: Select the columns you want to keep and rename them\n",
    "selected_columns = [\n",
    "    \"CMPLNT_NUM as ID\",\n",
    "    \"CMPLNT_FR_DT as Date\",\n",
    "    \"BORO_NM as Borough\",\n",
    "    \"ADDR_PCT_CD as Precinct\",\n",
    "    \"Latitude\",\n",
    "    \"Longitude\"\n",
    "]\n",
    "df_selected = df.selectExpr(*selected_columns)\n",
    "\n",
    "# Step 4: Write the selected DataFrame to a new Parquet file\n",
    "parquet_output_path = \"../data/raw/complaint_data_reduced.parquet\"\n",
    "df_selected.write.parquet(parquet_output_path)\n",
    "\n",
    "df_selected.show()\n",
    "\n",
    "# Stop the SparkSession\n",
    "spark.stop()\n"
   ]
  },
  {
   "cell_type": "markdown",
   "metadata": {},
   "source": [
    "Arrest Data"
   ]
  },
  {
   "cell_type": "code",
   "execution_count": 91,
   "metadata": {},
   "outputs": [
    {
     "name": "stderr",
     "output_type": "stream",
     "text": [
      "23/08/04 10:38:53 WARN MemoryManager: Total allocation exceeds 95.00% (906,992,014 bytes) of heap memory\n",
      "Scaling row group sizes to 96.54% for 7 writers\n",
      "23/08/04 10:38:53 WARN MemoryManager: Total allocation exceeds 95.00% (906,992,014 bytes) of heap memory\n",
      "Scaling row group sizes to 84.47% for 8 writers\n",
      "23/08/04 10:38:57 WARN MemoryManager: Total allocation exceeds 95.00% (906,992,014 bytes) of heap memory\n",
      "Scaling row group sizes to 96.54% for 7 writers\n",
      "                                                                                \r"
     ]
    },
    {
     "name": "stdout",
     "output_type": "stream",
     "text": [
      "+---------+----------+---------+--------+------------------+------------------+\n",
      "|       ID|      Date|  Borough|Precinct|          Latitude|         Longitude|\n",
      "+---------+----------+---------+--------+------------------+------------------+\n",
      "|236791704|11/22/2021|Manhattan|      28|40.799008797000056|-73.95240854099995|\n",
      "|237354740|12/04/2021|    Bronx|      41|40.816391847000034|-73.89529641399997|\n",
      "|236081433|11/09/2021|   Queens|     113| 40.67970040800003|-73.77604736799998|\n",
      "| 32311380|06/18/2007|   Queens|      27|              null|              null|\n",
      "|192799737|01/26/2019|Manhattan|      25|40.800694331000045|-73.94110928599997|\n",
      "|193260691|02/06/2019|Manhattan|      14| 40.75783900300007|-73.99121211099998|\n",
      "|237291769|12/03/2021|   Queens|     115| 40.77205649600006|-73.87622400099998|\n",
      "|236106641|11/10/2021|    Bronx|      41|40.804012949000025|-73.87833183299993|\n",
      "|238383628|12/28/2021|   Queens|     113| 40.69166001700007|-73.77919852099996|\n",
      "|149117452|01/06/2016| Brooklyn|      67|40.648650085000035|-73.95033556299995|\n",
      "|237339209|12/04/2021| Brooklyn|      83|40.688583516000044|-73.91652634699994|\n",
      "|221756278|12/12/2020|Manhattan|      23| 40.78756730100001|-73.94313233199995|\n",
      "|237580757|12/09/2021|Manhattan|      30| 40.82867545800008|-73.94398971599996|\n",
      "|190049060|11/15/2018| Brooklyn|      77| 40.67458330800008|-73.93022154099998|\n",
      "| 24288194|09/13/2006| Brooklyn|      77| 40.67125445700003|     -73.926713851|\n",
      "|221870158|12/15/2020| Brooklyn|      75| 40.67276293200007|-73.87204263699994|\n",
      "|220422940|11/12/2020|   Queens|     112| 40.72236368700004|-73.85147389399998|\n",
      "|237954587|12/16/2021|Manhattan|       1|40.720463840000036|-74.00685220399998|\n",
      "|189182271|10/24/2018|Manhattan|       5|40.716195914000025|-73.99749074599998|\n",
      "|222293770|12/27/2020|    Bronx|      43| 40.82310129900002|-73.86969046099993|\n",
      "+---------+----------+---------+--------+------------------+------------------+\n",
      "only showing top 20 rows\n",
      "\n"
     ]
    }
   ],
   "source": [
    "from pyspark.sql import SparkSession\n",
    "from pyspark.sql.functions import col, when\n",
    "\n",
    "# Step 1: Create a SparkSession\n",
    "spark = SparkSession.builder.appName(\"Reduce_Arrest_Data\").getOrCreate()\n",
    "\n",
    "# Step 2: Read the existing Parquet file into a DataFrame\n",
    "parquet_input_path = \"../data/raw/arrest_data.parquet\"\n",
    "df = spark.read.parquet(parquet_input_path)\n",
    "\n",
    "# Step 3: Define a mapping dictionary for boroughs\n",
    "borough_mapping = {\n",
    "    \"B\": \"Bronx\",\n",
    "    \"S\": \"Staten Island\",\n",
    "    \"K\": \"Brooklyn\",\n",
    "    \"M\": \"Manhattan\",\n",
    "    \"Q\": \"Queens\"\n",
    "}\n",
    "\n",
    "# Step 4: Select the columns you want to keep and rename them, while mapping borough abbreviations\n",
    "df_selected = df.select(\n",
    "    col(\"ARREST_KEY\").alias(\"ID\"),\n",
    "    col(\"ARREST_DATE\").alias(\"Date\"),\n",
    "    when(col(\"ARREST_BORO\").isin(list(borough_mapping.keys())), col(\"ARREST_BORO\")).otherwise(col(\"ARREST_BORO\")).alias(\"Borough\"),\n",
    "    col(\"ARREST_PRECINCT\").alias(\"Precinct\"),\n",
    "    col(\"Latitude\"),\n",
    "    col(\"Longitude\")\n",
    ").replace(borough_mapping, subset=[\"Borough\"])\n",
    "\n",
    "# Step 5: Write the selected DataFrame to a new Parquet file\n",
    "parquet_output_path = \"../data/raw/arrest_data_reduced.parquet\"\n",
    "df_selected.write.parquet(parquet_output_path)\n",
    "\n",
    "# Step 6: Show the resulting DataFrame\n",
    "df_selected.show()\n",
    "\n",
    "# Step 7: Stop the SparkSession\n",
    "spark.stop()\n",
    "\n"
   ]
  },
  {
   "cell_type": "markdown",
   "metadata": {},
   "source": [
    "Mapping abbreviations of Borough to their full names in Arrest Data "
   ]
  },
  {
   "cell_type": "markdown",
   "metadata": {},
   "source": [
    "Merging all crime data"
   ]
  },
  {
   "cell_type": "code",
   "execution_count": 92,
   "metadata": {},
   "outputs": [
    {
     "name": "stderr",
     "output_type": "stream",
     "text": [
      "23/08/04 10:39:13 WARN MemoryManager: Total allocation exceeds 95.00% (906,992,014 bytes) of heap memory\n",
      "Scaling row group sizes to 96.54% for 7 writers\n",
      "23/08/04 10:39:13 WARN MemoryManager: Total allocation exceeds 95.00% (906,992,014 bytes) of heap memory\n",
      "Scaling row group sizes to 84.47% for 8 writers\n",
      "23/08/04 10:39:18 WARN MemoryManager: Total allocation exceeds 95.00% (906,992,014 bytes) of heap memory\n",
      "Scaling row group sizes to 96.54% for 7 writers\n",
      "23/08/04 10:39:21 WARN MemoryManager: Total allocation exceeds 95.00% (906,992,014 bytes) of heap memory\n",
      "Scaling row group sizes to 96.54% for 7 writers\n",
      "23/08/04 10:39:21 WARN MemoryManager: Total allocation exceeds 95.00% (906,992,014 bytes) of heap memory\n",
      "Scaling row group sizes to 84.47% for 8 writers\n",
      "23/08/04 10:39:24 WARN MemoryManager: Total allocation exceeds 95.00% (906,992,014 bytes) of heap memory\n",
      "Scaling row group sizes to 96.54% for 7 writers\n",
      "23/08/04 10:39:25 WARN MemoryManager: Total allocation exceeds 95.00% (906,992,014 bytes) of heap memory\n",
      "Scaling row group sizes to 84.47% for 8 writers\n",
      "23/08/04 10:39:27 WARN MemoryManager: Total allocation exceeds 95.00% (906,992,014 bytes) of heap memory\n",
      "Scaling row group sizes to 96.54% for 7 writers\n",
      "                                                                                \r"
     ]
    },
    {
     "name": "stdout",
     "output_type": "stream",
     "text": [
      "+---------+----------+---------+--------+------------------+------------------+--------------------+\n",
      "|       ID|      Date|  Borough|Precinct|          Latitude|         Longitude|              Source|\n",
      "+---------+----------+---------+--------+------------------+------------------+--------------------+\n",
      "|236791704|11/22/2021|Manhattan|      28|40.799008797000056|-73.95240854099995|../data/raw/arres...|\n",
      "|237354740|12/04/2021|    Bronx|      41|40.816391847000034|-73.89529641399997|../data/raw/arres...|\n",
      "|236081433|11/09/2021|   Queens|     113| 40.67970040800003|-73.77604736799998|../data/raw/arres...|\n",
      "| 32311380|06/18/2007|   Queens|      27|              null|              null|../data/raw/arres...|\n",
      "|192799737|01/26/2019|Manhattan|      25|40.800694331000045|-73.94110928599997|../data/raw/arres...|\n",
      "|193260691|02/06/2019|Manhattan|      14| 40.75783900300007|-73.99121211099998|../data/raw/arres...|\n",
      "|237291769|12/03/2021|   Queens|     115| 40.77205649600006|-73.87622400099998|../data/raw/arres...|\n",
      "|236106641|11/10/2021|    Bronx|      41|40.804012949000025|-73.87833183299993|../data/raw/arres...|\n",
      "|238383628|12/28/2021|   Queens|     113| 40.69166001700007|-73.77919852099996|../data/raw/arres...|\n",
      "|149117452|01/06/2016| Brooklyn|      67|40.648650085000035|-73.95033556299995|../data/raw/arres...|\n",
      "|237339209|12/04/2021| Brooklyn|      83|40.688583516000044|-73.91652634699994|../data/raw/arres...|\n",
      "|221756278|12/12/2020|Manhattan|      23| 40.78756730100001|-73.94313233199995|../data/raw/arres...|\n",
      "|237580757|12/09/2021|Manhattan|      30| 40.82867545800008|-73.94398971599996|../data/raw/arres...|\n",
      "|190049060|11/15/2018| Brooklyn|      77| 40.67458330800008|-73.93022154099998|../data/raw/arres...|\n",
      "| 24288194|09/13/2006| Brooklyn|      77| 40.67125445700003|     -73.926713851|../data/raw/arres...|\n",
      "|221870158|12/15/2020| Brooklyn|      75| 40.67276293200007|-73.87204263699994|../data/raw/arres...|\n",
      "|220422940|11/12/2020|   Queens|     112| 40.72236368700004|-73.85147389399998|../data/raw/arres...|\n",
      "|237954587|12/16/2021|Manhattan|       1|40.720463840000036|-74.00685220399998|../data/raw/arres...|\n",
      "|189182271|10/24/2018|Manhattan|       5|40.716195914000025|-73.99749074599998|../data/raw/arres...|\n",
      "|222293770|12/27/2020|    Bronx|      43| 40.82310129900002|-73.86969046099993|../data/raw/arres...|\n",
      "+---------+----------+---------+--------+------------------+------------------+--------------------+\n",
      "only showing top 20 rows\n",
      "\n"
     ]
    }
   ],
   "source": [
    "from pyspark.sql import SparkSession\n",
    "from pyspark.sql.functions import lit\n",
    "\n",
    "# Step 1: Create a SparkSession\n",
    "spark = SparkSession.builder.appName(\"Merge_Parquet_Files\").getOrCreate()\n",
    "\n",
    "# Set the configuration for legacy mode\n",
    "spark.conf.set(\"spark.sql.parquet.int96RebaseModeInWrite\", \"LEGACY\")\n",
    "\n",
    "# Step 2: Define the file paths for all the Parquet files you want to merge\n",
    "file_paths = [\n",
    "    \"../data/raw/arrest_data_reduced.parquet\",\n",
    "    \"../data/raw/shooting_data_reduced.parquet\",\n",
    "    \"../data/raw/complaint_data_reduced.parquet\",\n",
    "    # Add more file paths as needed\n",
    "]\n",
    "\n",
    "# Step 3: Read each Parquet file into a separate DataFrame\n",
    "dfs = [spark.read.parquet(file_path) for file_path in file_paths]\n",
    "\n",
    "# Step 4: Add a new column to each DataFrame to identify the source (file name)\n",
    "source_column_name = \"Source\"\n",
    "for i in range(len(dfs)):\n",
    "    dfs[i] = dfs[i].withColumn(source_column_name, lit(file_paths[i]))\n",
    "\n",
    "# Step 5: Concatenate or union the DataFrames to create a single DataFrame\n",
    "merged_df = dfs[0]\n",
    "for i in range(1, len(dfs)):\n",
    "    merged_df = merged_df.union(dfs[i])\n",
    "\n",
    "# Step 6: Write the merged DataFrame to a new Parquet file\n",
    "parquet_output_path = \"../data/raw/merged_crime_data.parquet\"\n",
    "merged_df.write.parquet(parquet_output_path)\n",
    "\n",
    "merged_df.show()\n",
    "\n",
    "# Stop the SparkSession\n",
    "spark.stop()\n"
   ]
  },
  {
   "cell_type": "markdown",
   "metadata": {},
   "source": [
    "Remove rows with no latitude/ (converting to and from csv as it isnt otherwise working for me)"
   ]
  },
  {
   "cell_type": "code",
   "execution_count": 93,
   "metadata": {},
   "outputs": [
    {
     "name": "stderr",
     "output_type": "stream",
     "text": [
      "                                                                                \r"
     ]
    }
   ],
   "source": [
    "from pyspark.sql import SparkSession\n",
    "\n",
    "# Step 1: Create a new SparkSession\n",
    "with SparkSession.builder.appName(\"Convert_Parquet_to_CSV\").getOrCreate() as spark:\n",
    "    # Step 2: Read the merged_crime_data.parquet file into a DataFrame\n",
    "    parquet_input_path = \"../data/raw/merged_crime_data.parquet\"\n",
    "    df = spark.read.parquet(parquet_input_path)\n",
    "\n",
    "    # Step 3: Save the DataFrame as CSV\n",
    "    csv_output_path = \"../data/raw/merged_crime_data.csv\"\n",
    "    df.write.csv(csv_output_path, header=True, mode=\"overwrite\")"
   ]
  },
  {
   "cell_type": "code",
   "execution_count": 94,
   "metadata": {},
   "outputs": [
    {
     "name": "stderr",
     "output_type": "stream",
     "text": [
      "/tmp/ipykernel_188/2673420837.py:10: DtypeWarning: Columns (0) have mixed types. Specify dtype option on import or set low_memory=False.\n",
      "  df = pd.read_csv(file_path)\n",
      "/tmp/ipykernel_188/2673420837.py:10: DtypeWarning: Columns (0) have mixed types. Specify dtype option on import or set low_memory=False.\n",
      "  df = pd.read_csv(file_path)\n",
      "/tmp/ipykernel_188/2673420837.py:10: DtypeWarning: Columns (0) have mixed types. Specify dtype option on import or set low_memory=False.\n",
      "  df = pd.read_csv(file_path)\n"
     ]
    }
   ],
   "source": [
    "import os\n",
    "import pandas as pd\n",
    "\n",
    "csv_folder_path = \"../data/raw/merged_crime_data.csv\"\n",
    "csv_files = [f for f in os.listdir(csv_folder_path) if f.endswith('.csv')]\n",
    "for csv_file in csv_files:\n",
    "    file_path = os.path.join(csv_folder_path, csv_file)\n",
    "    \n",
    "    # Read the CSV file into a DataFrame\n",
    "    df = pd.read_csv(file_path)\n",
    "    \n",
    "    # Drop rows with null latitude and longitude\n",
    "    df_filtered = df.dropna(subset=['Latitude', 'Longitude'])\n",
    "    \n",
    "    # Save the filtered DataFrame back to the CSV file\n",
    "    df_filtered.to_csv(file_path, index=False)\n",
    "\n"
   ]
  },
  {
   "cell_type": "code",
   "execution_count": 99,
   "metadata": {},
   "outputs": [
    {
     "ename": "ConnectionRefusedError",
     "evalue": "[Errno 111] Connection refused",
     "output_type": "error",
     "traceback": [
      "\u001b[0;31m---------------------------------------------------------------------------\u001b[0m",
      "\u001b[0;31mConnectionRefusedError\u001b[0m                    Traceback (most recent call last)",
      "Cell \u001b[0;32mIn[99], line 6\u001b[0m\n\u001b[1;32m      3\u001b[0m \u001b[39mfrom\u001b[39;00m \u001b[39mpyspark\u001b[39;00m\u001b[39m.\u001b[39;00m\u001b[39msql\u001b[39;00m \u001b[39mimport\u001b[39;00m SparkSession\n\u001b[1;32m      5\u001b[0m \u001b[39m# Create a SparkSession\u001b[39;00m\n\u001b[0;32m----> 6\u001b[0m spark \u001b[39m=\u001b[39m SparkSession\u001b[39m.\u001b[39;49mbuilder\u001b[39m.\u001b[39;49mappName(\u001b[39m\"\u001b[39;49m\u001b[39mConvert_CSV_to_Parquet\u001b[39;49m\u001b[39m\"\u001b[39;49m)\u001b[39m.\u001b[39;49mgetOrCreate()\n\u001b[1;32m      8\u001b[0m \u001b[39m# Specify the folder path where the CSV files are located\u001b[39;00m\n\u001b[1;32m      9\u001b[0m csv_folder_path \u001b[39m=\u001b[39m \u001b[39m\"\u001b[39m\u001b[39m../data/raw/merged_crime_data.csv\u001b[39m\u001b[39m\"\u001b[39m\n",
      "File \u001b[0;32m~/.local/lib/python3.8/site-packages/pyspark/sql/session.py:483\u001b[0m, in \u001b[0;36mSparkSession.Builder.getOrCreate\u001b[0;34m(self)\u001b[0m\n\u001b[1;32m    480\u001b[0m     session \u001b[39m=\u001b[39m SparkSession(sc, options\u001b[39m=\u001b[39m\u001b[39mself\u001b[39m\u001b[39m.\u001b[39m_options)\n\u001b[1;32m    481\u001b[0m \u001b[39melse\u001b[39;00m:\n\u001b[1;32m    482\u001b[0m     \u001b[39mgetattr\u001b[39m(\n\u001b[0;32m--> 483\u001b[0m         \u001b[39mgetattr\u001b[39;49m(session\u001b[39m.\u001b[39;49m_jvm, \u001b[39m\"\u001b[39;49m\u001b[39mSparkSession$\u001b[39;49m\u001b[39m\"\u001b[39;49m), \u001b[39m\"\u001b[39m\u001b[39mMODULE$\u001b[39m\u001b[39m\"\u001b[39m\n\u001b[1;32m    484\u001b[0m     )\u001b[39m.\u001b[39mapplyModifiableSettings(session\u001b[39m.\u001b[39m_jsparkSession, \u001b[39mself\u001b[39m\u001b[39m.\u001b[39m_options)\n\u001b[1;32m    485\u001b[0m \u001b[39mreturn\u001b[39;00m session\n",
      "File \u001b[0;32m~/.local/lib/python3.8/site-packages/py4j/java_gateway.py:1712\u001b[0m, in \u001b[0;36mJVMView.__getattr__\u001b[0;34m(self, name)\u001b[0m\n\u001b[1;32m   1709\u001b[0m \u001b[39mif\u001b[39;00m name \u001b[39m==\u001b[39m UserHelpAutoCompletion\u001b[39m.\u001b[39mKEY:\n\u001b[1;32m   1710\u001b[0m     \u001b[39mreturn\u001b[39;00m UserHelpAutoCompletion()\n\u001b[0;32m-> 1712\u001b[0m answer \u001b[39m=\u001b[39m \u001b[39mself\u001b[39;49m\u001b[39m.\u001b[39;49m_gateway_client\u001b[39m.\u001b[39;49msend_command(\n\u001b[1;32m   1713\u001b[0m     proto\u001b[39m.\u001b[39;49mREFLECTION_COMMAND_NAME \u001b[39m+\u001b[39;49m\n\u001b[1;32m   1714\u001b[0m     proto\u001b[39m.\u001b[39;49mREFL_GET_UNKNOWN_SUB_COMMAND_NAME \u001b[39m+\u001b[39;49m name \u001b[39m+\u001b[39;49m \u001b[39m\"\u001b[39;49m\u001b[39m\\n\u001b[39;49;00m\u001b[39m\"\u001b[39;49m \u001b[39m+\u001b[39;49m \u001b[39mself\u001b[39;49m\u001b[39m.\u001b[39;49m_id \u001b[39m+\u001b[39;49m\n\u001b[1;32m   1715\u001b[0m     \u001b[39m\"\u001b[39;49m\u001b[39m\\n\u001b[39;49;00m\u001b[39m\"\u001b[39;49m \u001b[39m+\u001b[39;49m proto\u001b[39m.\u001b[39;49mEND_COMMAND_PART)\n\u001b[1;32m   1716\u001b[0m \u001b[39mif\u001b[39;00m answer \u001b[39m==\u001b[39m proto\u001b[39m.\u001b[39mSUCCESS_PACKAGE:\n\u001b[1;32m   1717\u001b[0m     \u001b[39mreturn\u001b[39;00m JavaPackage(name, \u001b[39mself\u001b[39m\u001b[39m.\u001b[39m_gateway_client, jvm_id\u001b[39m=\u001b[39m\u001b[39mself\u001b[39m\u001b[39m.\u001b[39m_id)\n",
      "File \u001b[0;32m~/.local/lib/python3.8/site-packages/py4j/java_gateway.py:1036\u001b[0m, in \u001b[0;36mGatewayClient.send_command\u001b[0;34m(self, command, retry, binary)\u001b[0m\n\u001b[1;32m   1015\u001b[0m \u001b[39mdef\u001b[39;00m \u001b[39msend_command\u001b[39m(\u001b[39mself\u001b[39m, command, retry\u001b[39m=\u001b[39m\u001b[39mTrue\u001b[39;00m, binary\u001b[39m=\u001b[39m\u001b[39mFalse\u001b[39;00m):\n\u001b[1;32m   1016\u001b[0m \u001b[39m    \u001b[39m\u001b[39m\"\"\"Sends a command to the JVM. This method is not intended to be\u001b[39;00m\n\u001b[1;32m   1017\u001b[0m \u001b[39m       called directly by Py4J users. It is usually called by\u001b[39;00m\n\u001b[1;32m   1018\u001b[0m \u001b[39m       :class:`JavaMember` instances.\u001b[39;00m\n\u001b[0;32m   (...)\u001b[0m\n\u001b[1;32m   1034\u001b[0m \u001b[39m     if `binary` is `True`.\u001b[39;00m\n\u001b[1;32m   1035\u001b[0m \u001b[39m    \"\"\"\u001b[39;00m\n\u001b[0;32m-> 1036\u001b[0m     connection \u001b[39m=\u001b[39m \u001b[39mself\u001b[39;49m\u001b[39m.\u001b[39;49m_get_connection()\n\u001b[1;32m   1037\u001b[0m     \u001b[39mtry\u001b[39;00m:\n\u001b[1;32m   1038\u001b[0m         response \u001b[39m=\u001b[39m connection\u001b[39m.\u001b[39msend_command(command)\n",
      "File \u001b[0;32m~/.local/lib/python3.8/site-packages/py4j/clientserver.py:284\u001b[0m, in \u001b[0;36mJavaClient._get_connection\u001b[0;34m(self)\u001b[0m\n\u001b[1;32m    281\u001b[0m     \u001b[39mpass\u001b[39;00m\n\u001b[1;32m    283\u001b[0m \u001b[39mif\u001b[39;00m connection \u001b[39mis\u001b[39;00m \u001b[39mNone\u001b[39;00m \u001b[39mor\u001b[39;00m connection\u001b[39m.\u001b[39msocket \u001b[39mis\u001b[39;00m \u001b[39mNone\u001b[39;00m:\n\u001b[0;32m--> 284\u001b[0m     connection \u001b[39m=\u001b[39m \u001b[39mself\u001b[39;49m\u001b[39m.\u001b[39;49m_create_new_connection()\n\u001b[1;32m    285\u001b[0m \u001b[39mreturn\u001b[39;00m connection\n",
      "File \u001b[0;32m~/.local/lib/python3.8/site-packages/py4j/clientserver.py:291\u001b[0m, in \u001b[0;36mJavaClient._create_new_connection\u001b[0;34m(self)\u001b[0m\n\u001b[1;32m    287\u001b[0m \u001b[39mdef\u001b[39;00m \u001b[39m_create_new_connection\u001b[39m(\u001b[39mself\u001b[39m):\n\u001b[1;32m    288\u001b[0m     connection \u001b[39m=\u001b[39m ClientServerConnection(\n\u001b[1;32m    289\u001b[0m         \u001b[39mself\u001b[39m\u001b[39m.\u001b[39mjava_parameters, \u001b[39mself\u001b[39m\u001b[39m.\u001b[39mpython_parameters,\n\u001b[1;32m    290\u001b[0m         \u001b[39mself\u001b[39m\u001b[39m.\u001b[39mgateway_property, \u001b[39mself\u001b[39m)\n\u001b[0;32m--> 291\u001b[0m     connection\u001b[39m.\u001b[39;49mconnect_to_java_server()\n\u001b[1;32m    292\u001b[0m     \u001b[39mself\u001b[39m\u001b[39m.\u001b[39mset_thread_connection(connection)\n\u001b[1;32m    293\u001b[0m     \u001b[39mreturn\u001b[39;00m connection\n",
      "File \u001b[0;32m~/.local/lib/python3.8/site-packages/py4j/clientserver.py:438\u001b[0m, in \u001b[0;36mClientServerConnection.connect_to_java_server\u001b[0;34m(self)\u001b[0m\n\u001b[1;32m    435\u001b[0m \u001b[39mif\u001b[39;00m \u001b[39mself\u001b[39m\u001b[39m.\u001b[39mssl_context:\n\u001b[1;32m    436\u001b[0m     \u001b[39mself\u001b[39m\u001b[39m.\u001b[39msocket \u001b[39m=\u001b[39m \u001b[39mself\u001b[39m\u001b[39m.\u001b[39mssl_context\u001b[39m.\u001b[39mwrap_socket(\n\u001b[1;32m    437\u001b[0m         \u001b[39mself\u001b[39m\u001b[39m.\u001b[39msocket, server_hostname\u001b[39m=\u001b[39m\u001b[39mself\u001b[39m\u001b[39m.\u001b[39mjava_address)\n\u001b[0;32m--> 438\u001b[0m \u001b[39mself\u001b[39;49m\u001b[39m.\u001b[39;49msocket\u001b[39m.\u001b[39;49mconnect((\u001b[39mself\u001b[39;49m\u001b[39m.\u001b[39;49mjava_address, \u001b[39mself\u001b[39;49m\u001b[39m.\u001b[39;49mjava_port))\n\u001b[1;32m    439\u001b[0m \u001b[39mself\u001b[39m\u001b[39m.\u001b[39mstream \u001b[39m=\u001b[39m \u001b[39mself\u001b[39m\u001b[39m.\u001b[39msocket\u001b[39m.\u001b[39mmakefile(\u001b[39m\"\u001b[39m\u001b[39mrb\u001b[39m\u001b[39m\"\u001b[39m)\n\u001b[1;32m    440\u001b[0m \u001b[39mself\u001b[39m\u001b[39m.\u001b[39mis_connected \u001b[39m=\u001b[39m \u001b[39mTrue\u001b[39;00m\n",
      "\u001b[0;31mConnectionRefusedError\u001b[0m: [Errno 111] Connection refused"
     ]
    }
   ],
   "source": [
    "import os\n",
    "import pandas as pd\n",
    "from pyspark.sql import SparkSession\n",
    "\n",
    "# Create a SparkSession\n",
    "spark = SparkSession.builder.appName(\"Convert_CSV_to_Parquet\").getOrCreate()\n",
    "\n",
    "# Specify the folder path where the CSV files are located\n",
    "csv_folder_path = \"../data/raw/merged_crime_data.csv\"\n",
    "\n",
    "# Get a list of all CSV files in the folder\n",
    "csv_files = [f for f in os.listdir(csv_folder_path) if f.endswith('.csv')]\n",
    "\n",
    "# Iterate through each CSV file, read it into a Pandas DataFrame, convert it to a PySpark DataFrame, and append it to a list of DataFrames\n",
    "dfs = []\n",
    "for csv_file in csv_files:\n",
    "    file_path = os.path.join(csv_folder_path, csv_file)\n",
    "    \n",
    "    # Read the CSV file into a Pandas DataFrame\n",
    "    df_pandas = pd.read_csv(file_path)\n",
    "    \n",
    "    # Convert the Pandas DataFrame to a PySpark DataFrame\n",
    "    df_spark = spark.createDataFrame(df_pandas)\n",
    "    \n",
    "    # Append the PySpark DataFrame to the list\n",
    "    dfs.append(df_spark)\n",
    "\n",
    "# Concatenate all the DataFrames into a single merged PySpark DataFrame\n",
    "merged_df_spark = dfs[0]\n",
    "for df_spark in dfs[1:]:\n",
    "    merged_df_spark = merged_df_spark.union(df_spark)\n",
    "\n",
    "# Save the merged PySpark DataFrame to a single Parquet file\n",
    "parquet_output_path = \"../data/raw/merged_crime_data_filtered.parquet\"\n",
    "merged_df_spark.write.parquet(parquet_output_path)\n",
    "\n",
    "merged_df_spark.show()\n",
    "\n",
    "# Stop the SparkSession\n",
    "spark.stop()\n"
   ]
  },
  {
   "cell_type": "markdown",
   "metadata": {},
   "source": [
    "Delete all intermediate parquet files"
   ]
  },
  {
   "cell_type": "code",
   "execution_count": 68,
   "metadata": {},
   "outputs": [
    {
     "name": "stdout",
     "output_type": "stream",
     "text": [
      "Error while deleting ../data/raw/arrest_data.parquet: [Errno 2] No such file or directory: '../data/raw/arrest_data.parquet'\n",
      "Error while deleting ../data/raw/arrest_data_reduced.parquet: [Errno 2] No such file or directory: '../data/raw/arrest_data_reduced.parquet'\n",
      "Error while deleting ../data/raw/complaint_data.parquet: [Errno 2] No such file or directory: '../data/raw/complaint_data.parquet'\n",
      "Error while deleting ../data/raw/complaint_data_reduced.parquet: [Errno 2] No such file or directory: '../data/raw/complaint_data_reduced.parquet'\n",
      "Error while deleting ../data/raw/shooting_data.parquet: [Errno 2] No such file or directory: '../data/raw/shooting_data.parquet'\n",
      "Error while deleting ../data/raw/shooting_data_reduced.parquet: [Errno 2] No such file or directory: '../data/raw/shooting_data_reduced.parquet'\n",
      "Error while deleting ../data/raw/merged_crime_data.parquet../data/raw/filtered_crime_data.parquet: [Errno 2] No such file or directory: '../data/raw/merged_crime_data.parquet../data/raw/filtered_crime_data.parquet'\n"
     ]
    }
   ],
   "source": [
    "import shutil\n",
    "\n",
    "# List of folders to delete\n",
    "folders_to_delete = [\n",
    "    \"../data/raw/arrest_data.parquet\",\n",
    "    \"../data/raw/arrest_data_reduced.parquet\",\n",
    "    \"../data/raw/complaint_data.parquet\",\n",
    "    \"../data/raw/complaint_data_reduced.parquet\",\n",
    "    \"../data/raw/shooting_data.parquet\",\n",
    "    \"../data/raw/shooting_data_reduced.parquet\",\n",
    "    \"../data/raw/merged_crime_data.parquet\"\n",
    "    \"../data/raw/filtered_crime_data.parquet\"\n",
    "]\n",
    "\n",
    "# Function to delete folders and their contents\n",
    "def delete_folders(folders_list):\n",
    "    for folder in folders_list:\n",
    "        try:\n",
    "            shutil.rmtree(folder)\n",
    "            print(f\"Deleted: {folder}\")\n",
    "        except Exception as e:\n",
    "            print(f\"Error while deleting {folder}: {e}\")\n",
    "\n",
    "# Call the function to delete the specified folders and their contents\n",
    "delete_folders(folders_to_delete)\n"
   ]
  }
 ],
 "metadata": {
  "kernelspec": {
   "display_name": "Python 3",
   "language": "python",
   "name": "python3"
  },
  "language_info": {
   "codemirror_mode": {
    "name": "ipython",
    "version": 3
   },
   "file_extension": ".py",
   "mimetype": "text/x-python",
   "name": "python",
   "nbconvert_exporter": "python",
   "pygments_lexer": "ipython3",
   "version": "3.8.10"
  },
  "orig_nbformat": 4
 },
 "nbformat": 4,
 "nbformat_minor": 2
}
