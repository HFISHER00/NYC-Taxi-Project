{
 "cells": [
  {
   "cell_type": "code",
   "execution_count": 1,
   "metadata": {},
   "outputs": [],
   "source": [
    "import pandas as pd"
   ]
  },
  {
   "cell_type": "code",
   "execution_count": 2,
   "metadata": {},
   "outputs": [
    {
     "name": "stderr",
     "output_type": "stream",
     "text": [
      "your 131072x1 screen size is bogus. expect trouble\n",
      "23/07/31 17:23:55 WARN Utils: Your hostname, LAPTOP-RELH58H1 resolves to a loopback address: 127.0.1.1; using 172.19.22.4 instead (on interface eth0)\n",
      "23/07/31 17:23:55 WARN Utils: Set SPARK_LOCAL_IP if you need to bind to another address\n",
      "Setting default log level to \"WARN\".\n",
      "To adjust logging level use sc.setLogLevel(newLevel). For SparkR, use setLogLevel(newLevel).\n",
      "23/07/31 17:23:58 WARN NativeCodeLoader: Unable to load native-hadoop library for your platform... using builtin-java classes where applicable\n"
     ]
    }
   ],
   "source": [
    "from pyspark.sql import SparkSession, functions as F\n",
    "\n",
    "# Create a spark session (which will run spark jobs)\n",
    "spark = (\n",
    "    SparkSession.builder.appName(\"MAST30034 Project 1\")\n",
    "    .config(\"spark.sql.repl.eagerEval.enabled\", True)\n",
    "    .config(\"spark.sql.parquet.cacheMetadata\", \"true\")\n",
    "    .config(\"spark.sql.session.timeZone\", \"Etc/UTC\")\n",
    "    .config('spark.driver.memory', '4g')\n",
    "    .config('spark.executor.memory', '2g')\n",
    "    .getOrCreate()\n",
    ")"
   ]
  },
  {
   "cell_type": "code",
   "execution_count": 8,
   "metadata": {},
   "outputs": [],
   "source": [
    "'../../data/tlc_data/2023-01.parquet')"
   ]
  },
  {
   "cell_type": "code",
   "execution_count": 10,
   "metadata": {},
   "outputs": [
    {
     "name": "stderr",
     "output_type": "stream",
     "text": [
      "23/07/31 17:34:51 WARN package: Truncated the string representation of a plan since it was too large. This behavior can be adjusted by setting 'spark.sql.debug.maxToStringFields'.\n",
      "                                                                                \r"
     ]
    }
   ],
   "source": [
    "# Step 1: Provide the path to the CSV file\n",
    "csv_file_path = \"../data/raw/NYC_Vehicle_Collisions_Crashes.csv\"\n",
    "\n",
    "# Step 2: Read the CSV file into a Spark DataFrame\n",
    "df = spark.read.csv(csv_file_path, header=True, inferSchema=True)\n",
    "\n",
    "# Step 3: Write the DataFrame to a Parquet file\n",
    "parquet_output_path = \"../data/raw/NYC_Vehicle_Collisions_Crashes.parquet\"\n",
    "df.write.parquet(parquet_output_path)\n"
   ]
  },
  {
   "cell_type": "markdown",
   "metadata": {},
   "source": [
    "REMOVING CRASHES WITH NULL FOR BOROUGH (LOCATION)"
   ]
  },
  {
   "cell_type": "code",
   "execution_count": 14,
   "metadata": {},
   "outputs": [
    {
     "name": "stderr",
     "output_type": "stream",
     "text": [
      "                                                                                \r"
     ]
    },
    {
     "name": "stdout",
     "output_type": "stream",
     "text": [
      "+----------+----------+-------------+--------+---------+----------+--------------------+--------------------+------------------+--------------------+-------------------------+------------------------+-----------------------------+----------------------------+-------------------------+------------------------+--------------------------+-------------------------+-----------------------------+-----------------------------+-----------------------------+-----------------------------+-----------------------------+------------+--------------------+--------------------+-------------------+-------------------+-------------------+\n",
      "|CRASH DATE|CRASH TIME|      BOROUGH|ZIP CODE| LATITUDE| LONGITUDE|            LOCATION|      ON STREET NAME| CROSS STREET NAME|     OFF STREET NAME|NUMBER OF PERSONS INJURED|NUMBER OF PERSONS KILLED|NUMBER OF PEDESTRIANS INJURED|NUMBER OF PEDESTRIANS KILLED|NUMBER OF CYCLIST INJURED|NUMBER OF CYCLIST KILLED|NUMBER OF MOTORIST INJURED|NUMBER OF MOTORIST KILLED|CONTRIBUTING FACTOR VEHICLE 1|CONTRIBUTING FACTOR VEHICLE 2|CONTRIBUTING FACTOR VEHICLE 3|CONTRIBUTING FACTOR VEHICLE 4|CONTRIBUTING FACTOR VEHICLE 5|COLLISION_ID| VEHICLE TYPE CODE 1| VEHICLE TYPE CODE 2|VEHICLE TYPE CODE 3|VEHICLE TYPE CODE 4|VEHICLE TYPE CODE 5|\n",
      "+----------+----------+-------------+--------+---------+----------+--------------------+--------------------+------------------+--------------------+-------------------------+------------------------+-----------------------------+----------------------------+-------------------------+------------------------+--------------------------+-------------------------+-----------------------------+-----------------------------+-----------------------------+-----------------------------+-----------------------------+------------+--------------------+--------------------+-------------------+-------------------+-------------------+\n",
      "|09/11/2021|      9:35|     BROOKLYN|   11208|40.667202|  -73.8665|(40.667202, -73.8...|                null|              null|1211      LORING ...|                        0|                       0|                            0|                           0|                        0|                       0|                         0|                        0|                  Unspecified|                         null|                         null|                         null|                         null|     4456314|               Sedan|                null|               null|               null|               null|\n",
      "|12/14/2021|      8:13|     BROOKLYN|   11233|40.683304|-73.917274|(40.683304, -73.9...|     SARATOGA AVENUE|    DECATUR STREET|                null|                        0|                       0|                            0|                           0|                        0|                       0|                         0|                        0|                         null|                         null|                         null|                         null|                         null|     4486609|                null|                null|               null|               null|               null|\n",
      "|12/14/2021|      8:17|        BRONX|   10475| 40.86816| -73.83148|(40.86816, -73.83...|                null|              null|344       BAYCHES...|                        2|                       0|                            0|                           0|                        0|                       0|                         2|                        0|                  Unspecified|                  Unspecified|                         null|                         null|                         null|     4486660|               Sedan|               Sedan|               null|               null|               null|\n",
      "|12/14/2021|     21:10|     BROOKLYN|   11207| 40.67172|  -73.8971|(40.67172, -73.8971)|                null|              null|2047      PITKIN ...|                        0|                       0|                            0|                           0|                        0|                       0|                         0|                        0|          Driver Inexperience|                  Unspecified|                         null|                         null|                         null|     4487074|               Sedan|                null|               null|               null|               null|\n",
      "|12/14/2021|     14:58|    MANHATTAN|   10017| 40.75144| -73.97397|(40.75144, -73.97...|            3 AVENUE|    EAST 43 STREET|                null|                        0|                       0|                            0|                           0|                        0|                       0|                         0|                        0|          Passing Too Closely|                  Unspecified|                         null|                         null|                         null|     4486519|               Sedan|Station Wagon/Spo...|               null|               null|               null|\n",
      "|12/14/2021|     16:50|       QUEENS|   11413|40.675884| -73.75577|(40.675884, -73.7...|SPRINGFIELD BOULE...|   EAST GATE PLAZA|                null|                        0|                       0|                            0|                           0|                        0|                       0|                         0|                        0|           Turning Improperly|                  Unspecified|                         null|                         null|                         null|     4487127|               Sedan|Station Wagon/Spo...|               null|               null|               null|\n",
      "|12/14/2021|     23:10|       QUEENS|   11434| 40.66684| -73.78941|(40.66684, -73.78...|NORTH CONDUIT AVENUE|        150 STREET|                null|                        2|                       0|                            0|                           0|                        0|                       0|                         2|                        0|         Reaction to Uninv...|                  Unspecified|                         null|                         null|                         null|     4486635|               Sedan|               Sedan|               null|               null|               null|\n",
      "|12/14/2021|     17:58|     BROOKLYN|   11217| 40.68158| -73.97463|(40.68158, -73.97...|                null|              null|480       DEAN ST...|                        0|                       0|                            0|                           0|                        0|                       0|                         0|                        0|          Passing Too Closely|                  Unspecified|                         null|                         null|                         null|     4486604|              Tanker|Station Wagon/Spo...|               null|               null|               null|\n",
      "|12/14/2021|     20:03|     BROOKLYN|   11226| 40.65068| -73.95881|(40.65068, -73.95...|                null|              null|878       FLATBUS...|                        4|                       0|                            0|                           0|                        0|                       0|                         4|                        0|             Steering Failure|                         null|                         null|                         null|                         null|     4486991|               Sedan|                null|               null|               null|               null|\n",
      "|12/11/2021|     19:43|        BRONX|   10463| 40.87262|-73.904686|(40.87262, -73.90...|WEST KINGSBRIDGE ...|      HEATH AVENUE|                null|                        1|                       0|                            0|                           0|                        0|                       0|                         1|                        0|                  Unspecified|                  Unspecified|                         null|                         null|                         null|     4487040|Station Wagon/Spo...|               Sedan|               null|               null|               null|\n",
      "|12/11/2021|      4:45|    MANHATTAN|   10001|40.748917|-73.993546|(40.748917, -73.9...|                null|              null|232       WEST 30...|                        0|                       0|                            0|                           0|                        0|                       0|                         0|                        0|         Following Too Clo...|                  Unspecified|                         null|                         null|                         null|     4486905|Station Wagon/Spo...|                null|               null|               null|               null|\n",
      "|12/13/2021|      6:30|       QUEENS|   11372| 40.75373| -73.88505|(40.75373, -73.88...|           82 STREET|         34 AVENUE|                null|                        0|                       0|                            0|                           0|                        0|                       0|                         0|                        0|                  Unspecified|                         null|                         null|                         null|                         null|     4486967|               Sedan|                null|               null|               null|               null|\n",
      "|12/13/2021|     17:40|STATEN ISLAND|   10301| 40.63165| -74.08762|(40.63165, -74.08...|   VICTORY BOULEVARD|  WOODSTOCK AVENUE|                null|                        1|                       0|                            0|                           0|                        0|                       0|                         1|                        0|                  Unspecified|                  Unspecified|                         null|                         null|                         null|     4487001|               Sedan|               Sedan|               null|               null|               null|\n",
      "|12/14/2021|     17:31|     BROOKLYN|   11230|40.623104| -73.95809|(40.623104, -73.9...|      EAST 18 STREET|          AVENUE K|                null|                        1|                       0|                            1|                           0|                        0|                       0|                         0|                        0|                  Unspecified|                         null|                         null|                         null|                         null|     4486516|               Sedan|                null|               null|               null|               null|\n",
      "|12/14/2021|     20:13|     BROOKLYN|   11215| 40.66576|  -73.9845|(40.66576, -73.9845)|                null|              null| 366       12 STREET|                        0|                       0|                            0|                           0|                        0|                       0|                         0|                        0|          Passing Too Closely|                  Unspecified|                         null|                         null|                         null|     4486605|               Sedan|                null|               null|               null|               null|\n",
      "|12/14/2021|     12:54|     BROOKLYN|   11217|40.687534|  -73.9775|(40.687534, -73.9...|       FULTON STREET|SAINT FELIX STREET|                null|                        1|                       0|                            0|                           0|                        1|                       0|                         0|                        0|                  Unspecified|                  Unspecified|                         null|                         null|                         null|     4487052|               Sedan|                Bike|               null|               null|               null|\n",
      "|12/14/2021|     17:15|     BROOKLYN|   11211|40.710957|-73.951126|(40.710957, -73.9...|        GRAND STREET|      UNION AVENUE|                null|                        1|                       0|                            0|                           0|                        0|                       0|                         1|                        0|         Passing or Lane U...|                  Unspecified|                         null|                         null|                         null|     4486556|                 Bus|Station Wagon/Spo...|               null|               null|               null|\n",
      "|12/14/2021|     22:49|        BRONX|   10455| 40.81813|-73.910126|(40.81813, -73.91...|                null|              null|713       EAGLE A...|                        0|                       0|                            0|                           0|                        0|                       0|                         0|                        0|         Driver Inattentio...|                  Unspecified|                         null|                         null|                         null|     4486875|                Taxi|                null|               null|               null|               null|\n",
      "|12/12/2021|      9:00|       QUEENS|   11385| 40.70447| -73.90148|(40.70447, -73.90...|                null|              null| 59-14     67 AVENUE|                        0|                       0|                            0|                           0|                        0|                       0|                         0|                        0|          Passing Too Closely|                  Unspecified|                         null|                         null|                         null|     4486933|Station Wagon/Spo...|                null|               null|               null|               null|\n",
      "|07/12/2022|     17:50|     BROOKLYN|   11225|40.663303| -73.96049|(40.663303, -73.9...|                null|              null|44        EMPIRE ...|                        0|                       0|                            0|                           0|                        0|                       0|                         0|                        0|            Oversized Vehicle|                  Unspecified|                         null|                         null|                         null|     4545699|               Sedan|                null|               null|               null|               null|\n",
      "+----------+----------+-------------+--------+---------+----------+--------------------+--------------------+------------------+--------------------+-------------------------+------------------------+-----------------------------+----------------------------+-------------------------+------------------------+--------------------------+-------------------------+-----------------------------+-----------------------------+-----------------------------+-----------------------------+-----------------------------+------------+--------------------+--------------------+-------------------+-------------------+-------------------+\n",
      "only showing top 20 rows\n",
      "\n"
     ]
    }
   ],
   "source": [
    "from pyspark.sql.functions import col\n",
    "\n",
    "# Create a Spark session\n",
    "spark = SparkSession.builder.appName(\"Remove Null Rows\").getOrCreate()\n",
    "\n",
    "# Read the parquet file into a DataFrame\n",
    "Crash_results = spark.read.parquet('../data/raw/NYC_Vehicle_Collisions_Crashes.parquet')\n",
    "\n",
    "# Filter out rows with null values in the \"BOROUGH\" column\n",
    "Crash_results_filtered = Crash_results.na.drop(subset=[\"BOROUGH\"])\n",
    "\n",
    "# Show the filtered DataFrame\n",
    "Crash_results_filtered.show()\n",
    "\n"
   ]
  }
 ],
 "metadata": {
  "kernelspec": {
   "display_name": "Python 3",
   "language": "python",
   "name": "python3"
  },
  "language_info": {
   "codemirror_mode": {
    "name": "ipython",
    "version": 3
   },
   "file_extension": ".py",
   "mimetype": "text/x-python",
   "name": "python",
   "nbconvert_exporter": "python",
   "pygments_lexer": "ipython3",
   "version": "3.8.10"
  },
  "orig_nbformat": 4
 },
 "nbformat": 4,
 "nbformat_minor": 2
}
