{
 "cells": [
  {
   "cell_type": "code",
   "execution_count": 1,
   "metadata": {},
   "outputs": [],
   "source": [
    "from pyspark.sql import SparkSession, functions as F\n",
    "from pyspark.sql.functions import col, hour"
   ]
  },
  {
   "cell_type": "markdown",
   "metadata": {},
   "source": [
    "Create Spark Session"
   ]
  },
  {
   "cell_type": "code",
   "execution_count": 2,
   "metadata": {},
   "outputs": [
    {
     "name": "stderr",
     "output_type": "stream",
     "text": [
      "your 131072x1 screen size is bogus. expect trouble\n",
      "23/08/19 19:22:35 WARN Utils: Your hostname, LAPTOP-RELH58H1 resolves to a loopback address: 127.0.1.1; using 172.19.22.4 instead (on interface eth0)\n",
      "23/08/19 19:22:35 WARN Utils: Set SPARK_LOCAL_IP if you need to bind to another address\n",
      "Setting default log level to \"WARN\".\n",
      "To adjust logging level use sc.setLogLevel(newLevel). For SparkR, use setLogLevel(newLevel).\n",
      "23/08/19 19:22:37 WARN NativeCodeLoader: Unable to load native-hadoop library for your platform... using builtin-java classes where applicable\n"
     ]
    }
   ],
   "source": [
    "spark = (\n",
    "    SparkSession.builder.appName('MAST30034 Project 1')\n",
    "    .config('spark.sql.repl.eagerEval.enabled', True) \n",
    "    .config('spark.sql.parquet.cacheMetadata', 'true')\n",
    "    .config(\"spark.sql.session.timeZone\", \"Etc/UTC\")\n",
    "    .config(\"spark.driver.memory\", \"4g\")\n",
    "    .config(\"spark.executor.memory\", \"4g\") \n",
    "    .getOrCreate()\n",
    ")"
   ]
  },
  {
   "cell_type": "markdown",
   "metadata": {},
   "source": [
    "Read in parquet files as spark dataframes - 3 months at a time (time frame my computer can handle)"
   ]
  },
  {
   "cell_type": "code",
   "execution_count": 3,
   "metadata": {},
   "outputs": [
    {
     "name": "stderr",
     "output_type": "stream",
     "text": [
      "                                                                                \r"
     ]
    }
   ],
   "source": [
    "# Define the years and months\n",
    "years = list(range(2016, 2020))\n",
    "months = list(range(1, 13, 3))\n",
    "\n",
    "# Create a list to hold the DataFrames\n",
    "yellow_taxi_dataframes = []\n",
    "\n",
    "# Iterate through years and months to read Parquet files\n",
    "for year in years:\n",
    "    for start_month in months:\n",
    "        end_month = start_month + 2 if start_month + 2 <= 12 else 12\n",
    "        \n",
    "        sdf_yellow = spark.read.parquet(f'../data/landing/yellow_taxi/{year}_{start_month:02}-{end_month:02}/*')\n",
    "        yellow_taxi_dataframes.append(sdf_yellow)"
   ]
  },
  {
   "cell_type": "markdown",
   "metadata": {},
   "source": [
    "Count the number of features intially"
   ]
  },
  {
   "cell_type": "code",
   "execution_count": 6,
   "metadata": {},
   "outputs": [
    {
     "name": "stdout",
     "output_type": "stream",
     "text": [
      "Number of columns: 19\n"
     ]
    }
   ],
   "source": [
    "num_columns = len(yellow_taxi_dataframes[0].columns)\n",
    "print(\"Number of columns:\", num_columns)"
   ]
  },
  {
   "cell_type": "markdown",
   "metadata": {},
   "source": [
    "Function to count and display size of data"
   ]
  },
  {
   "cell_type": "code",
   "execution_count": null,
   "metadata": {},
   "outputs": [],
   "source": [
    "def calculate_total_rows(dataframes):\n",
    "    \"\"\"\n",
    "    Calculates the total number of rows in a list of Spark DataFrames\n",
    "    Inputs:\n",
    "        List of Spark DataFrames for which to calculate the total rows\n",
    "    \"\"\"\n",
    "    total_rows = 0\n",
    "    for df in dataframes:\n",
    "        total_rows += df.count()\n",
    "    print(\"Size of data:\", total_rows)"
   ]
  },
  {
   "cell_type": "markdown",
   "metadata": {},
   "source": [
    "Count size of imported taxi data"
   ]
  },
  {
   "cell_type": "code",
   "execution_count": 5,
   "metadata": {},
   "outputs": [
    {
     "name": "stderr",
     "output_type": "stream",
     "text": [
      "                                                                                \r"
     ]
    },
    {
     "name": "stdout",
     "output_type": "stream",
     "text": [
      "Size of initial import: 432101963\n"
     ]
    }
   ],
   "source": [
    "# Use function to count data and display it\n",
    "calculate_total_rows(yellow_taxi_dataframes)"
   ]
  },
  {
   "cell_type": "markdown",
   "metadata": {},
   "source": [
    "Remove inconsistent data"
   ]
  },
  {
   "cell_type": "code",
   "execution_count": 6,
   "metadata": {},
   "outputs": [],
   "source": [
    "# Define the filter conditions\n",
    "filter_conditions = (\n",
    "    (F.col(\"Fare_amount\") >= 2.5) &\n",
    "    (F.col(\"Passenger_count\") >= 1) &\n",
    "    (F.col(\"PULocationID\").between(1, 263)) &\n",
    "    (F.col(\"DOLocationID\").between(1, 263)) &\n",
    "    (F.col(\"tpep_pickup_datetime\") <= F.col(\"tpep_dropoff_datetime\"))\n",
    ")\n",
    "\n",
    "# 3 months data\n",
    "# Create a list to store the filtered DataFrames\n",
    "filtered_yellow_taxi_dataframes = []\n",
    "\n",
    "# Apply the filter to each DataFrame and store the result\n",
    "for df in yellow_taxi_dataframes:\n",
    "    filtered_df = df.filter(filter_conditions)\n",
    "    filtered_yellow_taxi_dataframes.append(filtered_df)"
   ]
  },
  {
   "cell_type": "markdown",
   "metadata": {},
   "source": [
    "Create Pick Up hour (time of day) column"
   ]
  },
  {
   "cell_type": "code",
   "execution_count": 7,
   "metadata": {},
   "outputs": [],
   "source": [
    "# List to store modified DataFrames with the \"weekend\" column\n",
    "full_taxi_periods = []\n",
    "\n",
    "# Loop through the list of DataFrames and add the \"pickup_hour\" column\n",
    "for taxi_df in filtered_yellow_taxi_dataframes:\n",
    "    full_modified_taxi_df = taxi_df.withColumn(\"pickup_hour\", hour(col(\"tpep_pickup_datetime\")))\n",
    "    full_taxi_periods.append(full_modified_taxi_df)"
   ]
  },
  {
   "cell_type": "markdown",
   "metadata": {},
   "source": [
    "Count size of first filtering of taxi data"
   ]
  },
  {
   "cell_type": "code",
   "execution_count": null,
   "metadata": {},
   "outputs": [
    {
     "name": "stderr",
     "output_type": "stream",
     "text": [
      "[Stage 125:==================================================>      (8 + 1) / 9]\r"
     ]
    },
    {
     "name": "stdout",
     "output_type": "stream",
     "text": [
      "Size of data after removing inconsistent data: 420964216\n"
     ]
    },
    {
     "name": "stderr",
     "output_type": "stream",
     "text": [
      "                                                                                \r"
     ]
    }
   ],
   "source": [
    "# Use function to count size of data after filtering\n",
    "size_of_data = calculate_total_rows(filtered_yellow_taxi_dataframes)"
   ]
  },
  {
   "cell_type": "markdown",
   "metadata": {},
   "source": [
    "Removing unneccesary columns from yellow taxi data. In other notebooks will look to aggregate data into hours. Also in the models, I want to predict rates of pickups per hour. Logically I can't use any data made from after pick up."
   ]
  },
  {
   "cell_type": "code",
   "execution_count": 10,
   "metadata": {},
   "outputs": [],
   "source": [
    "# Select specific columns and display the result\n",
    "selected_columns = ['VendorID', 'tpep_pickup_datetime', 'PULocationID', 'DOLocationID',\n",
    "                    'pickup_hour']\n",
    "\n",
    "# Removing columns that aren't being used from all yellow taxi data\n",
    "# Create a list to store the new selected DataFrames\n",
    "selected_yellow_taxi_dataframes = []\n",
    "\n",
    "# Iterate through each DataFrame and apply column selection\n",
    "for df in full_taxi_periods:\n",
    "    selected_df = df.select(*selected_columns)\n",
    "    selected_yellow_taxi_dataframes.append(selected_df)"
   ]
  },
  {
   "cell_type": "markdown",
   "metadata": {},
   "source": [
    "Saving data segemented into 3 months"
   ]
  },
  {
   "cell_type": "code",
   "execution_count": 12,
   "metadata": {},
   "outputs": [
    {
     "name": "stderr",
     "output_type": "stream",
     "text": [
      "                                                                                \r"
     ]
    }
   ],
   "source": [
    "# Define a list of output paths for each Parquet file\n",
    "output_paths = [\n",
    "    \"../data/raw/yellow_taxi_reduced/2016_01_to_03.parquet\",\n",
    "    \"../data/raw/yellow_taxi_reduced/2016_04_to_06.parquet\",\n",
    "    \"../data/raw/yellow_taxi_reduced/2016_07_to_09.parquet\",\n",
    "    \"../data/raw/yellow_taxi_reduced/2016_10_to_12.parquet\",\n",
    "    \"../data/raw/yellow_taxi_reduced/2017_01_to_03.parquet\",\n",
    "    \"../data/raw/yellow_taxi_reduced/2017_04_to_06.parquet\",\n",
    "    \"../data/raw/yellow_taxi_reduced/2017_07_to_09.parquet\",\n",
    "    \"../data/raw/yellow_taxi_reduced/2017_10_to_12.parquet\",\n",
    "    \"../data/raw/yellow_taxi_reduced/2018_01_to_03.parquet\",\n",
    "    \"../data/raw/yellow_taxi_reduced/2018_04_to_06.parquet\",\n",
    "    \"../data/raw/yellow_taxi_reduced/2018_07_to_09.parquet\",\n",
    "    \"../data/raw/yellow_taxi_reduced/2018_10_to_12.parquet\",\n",
    "    \"../data/raw/yellow_taxi_reduced/2019_01_to_03.parquet\",\n",
    "    \"../data/raw/yellow_taxi_reduced/2019_04_to_06.parquet\",\n",
    "    \"../data/raw/yellow_taxi_reduced/2019_07_to_09.parquet\",\n",
    "    \"../data/raw/yellow_taxi_reduced/2019_10_to_12.parquet\",\n",
    "]\n",
    "\n",
    "# Iterate through each DataFrame and its corresponding output path\n",
    "for i in range(len(output_paths)):\n",
    "    selected_yellow_taxi_dataframes[i].write.parquet(output_paths[i])\n",
    "    \n",
    "# Stop the SparkSession\n",
    "spark.stop()"
   ]
  }
 ],
 "metadata": {
  "kernelspec": {
   "display_name": "Python 3",
   "language": "python",
   "name": "python3"
  },
  "language_info": {
   "codemirror_mode": {
    "name": "ipython",
    "version": 3
   },
   "file_extension": ".py",
   "mimetype": "text/x-python",
   "name": "python",
   "nbconvert_exporter": "python",
   "pygments_lexer": "ipython3",
   "version": "3.8.10"
  },
  "orig_nbformat": 4
 },
 "nbformat": 4,
 "nbformat_minor": 2
}
